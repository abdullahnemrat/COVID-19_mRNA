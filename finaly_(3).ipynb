{
  "cells": [
    {
      "cell_type": "markdown",
      "metadata": {
        "id": "V6KzZ9YVp8-A"
      },
      "source": [
        "### Import Library"
      ]
    },
    {
      "cell_type": "code",
      "execution_count": null,
      "metadata": {
        "id": "NwKIts70qMAx"
      },
      "outputs": [],
      "source": [
        "import pandas as pd\n",
        "import numpy as np\n",
        "import matplotlib.pyplot as plt\n",
        "import seaborn as sns\n",
        "# from scipy.stats import skew\n",
        "from sklearn.model_selection import train_test_split\n",
        "# from sklearn.model_selection import GridSearchCV\n",
        "from sklearn.model_selection import cross_val_score\n",
        "##############################################################\n",
        "from sklearn.preprocessing import OneHotEncoder\n",
        "from sklearn.metrics import mean_squared_error\n"
      ]
    },
    {
      "cell_type": "markdown",
      "metadata": {
        "id": "cz3YOC68oh6a"
      },
      "source": [
        "# Show Data"
      ]
    },
    {
      "cell_type": "code",
      "source": [
        "pd.set_option('display.max_columns', None)"
      ],
      "metadata": {
        "id": "ul0ACY5gORxo"
      },
      "execution_count": null,
      "outputs": []
    },
    {
      "cell_type": "markdown",
      "metadata": {
        "id": "gcVNdBX7o0lv"
      },
      "source": [
        "## Load Data"
      ]
    },
    {
      "cell_type": "code",
      "execution_count": null,
      "metadata": {
        "id": "J__RC8vYsCDq"
      },
      "outputs": [],
      "source": [
        "df_train=pd.read_csv('train.csv')"
      ]
    },
    {
      "cell_type": "code",
      "execution_count": null,
      "metadata": {
        "id": "6AO0eYnYCDk6"
      },
      "outputs": [],
      "source": [
        "# df_train[df_train['id']=='id_c03e77453']"
      ]
    },
    {
      "cell_type": "code",
      "source": [
        "target=df_train[['reactivity','deg_Mg_pH10','deg_Mg_50C']]\n",
        "df_train.drop(['reactivity','deg_Mg_pH10','deg_Mg_50C','id','id_seqpos'],inplace=True,axis=1)"
      ],
      "metadata": {
        "id": "lKpXMSkEa3qI"
      },
      "execution_count": null,
      "outputs": []
    },
    {
      "cell_type": "code",
      "source": [
        "num_feat=df_train.select_dtypes(exclude=['object'])\n",
        "cat_feat=df_train.select_dtypes(include=['object'])"
      ],
      "metadata": {
        "id": "o0Df3y13apiI"
      },
      "execution_count": null,
      "outputs": []
    },
    {
      "cell_type": "code",
      "source": [
        "df_train.sort_values(by='reactivity_error')"
      ],
      "metadata": {
        "id": "wtT0GzPu5_Sv"
      },
      "execution_count": null,
      "outputs": []
    },
    {
      "cell_type": "code",
      "source": [
        "df_train"
      ],
      "metadata": {
        "id": "EGzh0JJ2-ggZ"
      },
      "execution_count": null,
      "outputs": []
    },
    {
      "cell_type": "markdown",
      "metadata": {
        "id": "XPWCxUdZo0c_"
      },
      "source": [
        "## Data exploration"
      ]
    },
    {
      "cell_type": "markdown",
      "metadata": {
        "id": "eQkuvD8lf12X"
      },
      "source": [
        "### veg"
      ]
    },
    {
      "cell_type": "code",
      "source": [
        "Num_data.hist( figsize= (40 ,35) )"
      ],
      "metadata": {
        "id": "G4OVBNWw0Ynu"
      },
      "execution_count": null,
      "outputs": []
    },
    {
      "cell_type": "code",
      "execution_count": null,
      "metadata": {
        "id": "tmAFsCUMRrV-"
      },
      "outputs": [],
      "source": [
        "fig, axs = plt.subplots(4, 2, figsize=(20, 10))\n",
        "x=0;y=0\n",
        "for i in num_feat.columns:\n",
        "  sns.histplot(data=num_feat, x=i, kde=True, color=\"skyblue\", ax=axs[y, x])\n",
        "  if x ==1:\n",
        "    x=-1\n",
        "    y+=1\n",
        "  x+=1\n",
        "plt.show()"
      ]
    },
    {
      "cell_type": "code",
      "execution_count": null,
      "metadata": {
        "id": "HGmBFDWH9Vzb"
      },
      "outputs": [],
      "source": [
        "plt.figure(figsize = (15,10))\n",
        "sns.distplot(df_train[df_train.Response==0]['Age'], label='0')\n",
        "sns.distplot(df_train[df_train.Response==1]['Age'], label='1')\n",
        "plt.legend()\n",
        "plt.show()\n",
        "\n",
        "\n",
        "plt.figure(figsize = (15,10))\n",
        "sns.distplot(df_train[df_train.Response==0]['Region_Code'], label='0')\n",
        "sns.distplot(df_train[df_train.Response==1]['Region_Code'], label='1')\n",
        "plt.legend()\n",
        "plt.show()\n",
        "\n",
        "plt.figure(figsize = (15,10))\n",
        "sns.distplot(df_train[df_train.Response==0]['Annual_Premium'], label='0')\n",
        "sns.distplot(df_train[df_train.Response==1]['Annual_Premium'], label='1')\n",
        "plt.legend()\n",
        "plt.show()\n",
        "\n",
        "plt.figure(figsize = (15,10))\n",
        "sns.distplot(df_train[df_train.Response==0]['Policy_Sales_Channel'], label='0')\n",
        "sns.distplot(df_train[df_train.Response==1]['Policy_Sales_Channel'], label='1')\n",
        "plt.legend()\n",
        "plt.show()\n",
        "\n",
        "plt.figure(figsize = (15,10))\n",
        "sns.distplot(df_train[df_train.Response==0]['Vintage'], label='0')\n",
        "sns.distplot(df_train[df_train.Response==1]['Vintage'], label='1')\n",
        "plt.legend()\n",
        "plt.show()"
      ]
    },
    {
      "cell_type": "code",
      "execution_count": null,
      "metadata": {
        "id": "yYX6C_7tT73Z"
      },
      "outputs": [],
      "source": [
        "plt.figure(figsize = (20,25))\n",
        "plt.subplot(4,2,1)\n",
        "plt.gca().set_title('Variable Gender')\n",
        "ax=sns.countplot(x = 'Gender', palette = 'Set2', data = df_train)\n",
        "for p in ax.patches:\n",
        "   ax.annotate('{:.1f}'.format(p.get_height()), (p.get_x()+.32, p.get_height()+0.01))\n",
        "\n",
        "plt.subplot(4,2,2)\n",
        "plt.gca().set_title('Variable Driving_License')\n",
        "ax=sns.countplot(x = 'Driving_License', palette = 'Set2', data = df_train)\n",
        "for p in ax.patches:\n",
        "   ax.annotate('{:.1f}'.format(p.get_height()), (p.get_x()+.32, p.get_height()+0.01))\n",
        "\n",
        "\n",
        "plt.subplot(4,2,3)\n",
        "plt.gca().set_title('Variable Previously_Insured')\n",
        "ax=sns.countplot(x = 'Previously_Insured', palette = 'Set2', data = df_train)\n",
        "for p in ax.patches:\n",
        "   ax.annotate('{:.1f}'.format(p.get_height()), (p.get_x()+.32, p.get_height()+0.01))\n",
        "\n",
        "\n",
        "plt.subplot(4,2,4)\n",
        "plt.gca().set_title('Variable Vehicle_Age')\n",
        "ax=sns.countplot(x = 'Vehicle_Age', palette = 'Set2', data = df_train)\n",
        "for p in ax.patches:\n",
        "   ax.annotate('{:.1f}'.format(p.get_height()), (p.get_x()+.32, p.get_height()+0.01))\n",
        "\n",
        "\n",
        "plt.subplot(4,2,5)\n",
        "plt.gca().set_title('Variable Vehicle_Damage')\n",
        "ax=sns.countplot(x = 'Vehicle_Damage', palette = 'Set2', data = df_train)\n",
        "for p in ax.patches:\n",
        "   ax.annotate('{:.1f}'.format(p.get_height()), (p.get_x()+.32, p.get_height()+0.01))\n",
        "\n",
        "\n",
        "plt.subplot(4,2,6)\n",
        "plt.gca().set_title('Variable Previously_Insured')\n",
        "ax=sns.countplot(x = 'Previously_Insured', palette = 'Set2', data = df_train)\n",
        "for p in ax.patches:\n",
        "   ax.annotate('{:.1f}'.format(p.get_height()), (p.get_x()+.32, p.get_height()+0.01))\n",
        "\n",
        "\n",
        "\n",
        "plt.subplot(4,2,7)\n",
        "plt.gca().set_title('Variable Response')\n",
        "ax=sns.countplot(x = 'Response', palette = 'Set2', data = df_train)\n",
        "for p in ax.patches:\n",
        "   ax.annotate('{:.1f}'.format(p.get_height()), (p.get_x()+.32, p.get_height()+0.01))"
      ]
    },
    {
      "cell_type": "code",
      "execution_count": null,
      "metadata": {
        "id": "Ir-I30R8e-kN"
      },
      "outputs": [],
      "source": [
        "plt.figure(figsize = (20,25))\n",
        "\n",
        "plt.subplot(4,2,1)\n",
        "plt.gca().set_title('Variable Gender')\n",
        "ax=sns.countplot(x = 'Gender', hue=\"Response\", palette = 'Set2', data = df_train)\n",
        "for p in ax.patches:\n",
        "   ax.annotate('{:.1f}'.format(p.get_height()), (p.get_x()+0.12, p.get_height()+0.01))\n",
        "\n",
        "plt.subplot(4,2,2)\n",
        "plt.gca().set_title('Variable Driving_License')\n",
        "ax=sns.countplot(x = 'Driving_License', hue=\"Response\", palette = 'Set2', data = df_train)\n",
        "for p in ax.patches:\n",
        "   ax.annotate('{:.1f}'.format(p.get_height()), (p.get_x()+0.12, p.get_height()+0.01))\n",
        "\n",
        "\n",
        "plt.subplot(4,2,3)\n",
        "plt.gca().set_title('Variable Previously_Insured')\n",
        "ax=sns.countplot(x = 'Previously_Insured', hue=\"Response\", palette = 'Set2', data = df_train)\n",
        "for p in ax.patches:\n",
        "   ax.annotate('{:.1f}'.format(p.get_height()), (p.get_x()+0.12, p.get_height()+0.01))\n",
        "\n",
        "\n",
        "plt.subplot(4,2,4)\n",
        "plt.gca().set_title('Variable Vehicle_Age')\n",
        "ax=sns.countplot(x = 'Vehicle_Age', hue=\"Response\", palette = 'Set2', data = df_train)\n",
        "for p in ax.patches:\n",
        "   ax.annotate('{:.1f}'.format(p.get_height()), (p.get_x()+0.12, p.get_height()+0.01))\n",
        "\n",
        "\n",
        "plt.subplot(4,2,5)\n",
        "plt.gca().set_title('Variable Vehicle_Damage')\n",
        "ax=sns.countplot(x = 'Vehicle_Damage', hue=\"Response\", palette = 'Set2', data = df_train)\n",
        "for p in ax.patches:\n",
        "   ax.annotate('{:.1f}'.format(p.get_height()), (p.get_x()+0.12, p.get_height()+0.01))"
      ]
    },
    {
      "cell_type": "code",
      "execution_count": null,
      "metadata": {
        "id": "CyfysUWTaFtq"
      },
      "outputs": [],
      "source": [
        "sns.factorplot(\"Vehicle_Damage\", \"Age\", \"Gender\", data=df_train, kind=\"box\")"
      ]
    },
    {
      "cell_type": "markdown",
      "metadata": {
        "id": "PuAYB-p1f6B_"
      },
      "source": [
        "### numr"
      ]
    },
    {
      "cell_type": "code",
      "source": [
        "print(df_train['deg_50C'].value_counts())\n",
        "print(df_train['deg_pH10'].value_counts())"
      ],
      "metadata": {
        "id": "2JafaQw6fZoE"
      },
      "execution_count": null,
      "outputs": []
    },
    {
      "cell_type": "code",
      "source": [
        "for i in cat_feat.columns:\n",
        "  print(df_train[i].value_counts())"
      ],
      "metadata": {
        "id": "qiaoenFnQVa5"
      },
      "execution_count": null,
      "outputs": []
    },
    {
      "cell_type": "code",
      "execution_count": null,
      "metadata": {
        "id": "mzddQ8xasCnv"
      },
      "outputs": [],
      "source": [
        "df_train.info()"
      ]
    },
    {
      "cell_type": "markdown",
      "metadata": {
        "id": "xTVweCvJoi9Y"
      },
      "source": [
        "# EDA"
      ]
    },
    {
      "cell_type": "markdown",
      "metadata": {
        "id": "DS20Grewoi7Y"
      },
      "source": [
        "\n",
        "\n",
        "## Missing Data"
      ]
    },
    {
      "cell_type": "code",
      "execution_count": null,
      "metadata": {
        "id": "ArxUgWkiOqjM"
      },
      "outputs": [],
      "source": [
        "df_train.isna().sum()"
      ]
    },
    {
      "cell_type": "code",
      "execution_count": null,
      "metadata": {
        "id": "FSskNI90BTVi"
      },
      "outputs": [],
      "source": [
        "#there is no NaN data"
      ]
    },
    {
      "cell_type": "markdown",
      "metadata": {
        "id": "xDEdqJwUoi45"
      },
      "source": [
        "## Convert Data Type"
      ]
    },
    {
      "cell_type": "code",
      "execution_count": null,
      "metadata": {
        "id": "OZNowVeTIZVB",
        "colab": {
          "base_uri": "https://localhost:8080/"
        },
        "outputId": "c270e66d-f431-4584-9df5-23152341af2d"
      },
      "outputs": [
        {
          "output_type": "stream",
          "name": "stderr",
          "text": [
            "/usr/local/lib/python3.8/dist-packages/pandas/core/frame.py:3641: SettingWithCopyWarning: \n",
            "A value is trying to be set on a copy of a slice from a DataFrame.\n",
            "Try using .loc[row_indexer,col_indexer] = value instead\n",
            "\n",
            "See the caveats in the documentation: https://pandas.pydata.org/pandas-docs/stable/user_guide/indexing.html#returning-a-view-versus-a-copy\n",
            "  self[k1] = value[k2]\n"
          ]
        }
      ],
      "source": [
        "OE = ['sequence', 'structure', 'predicted_loop_type']\n",
        "dic = {'A':0, 'G': 1, 'U': 2, 'C': 3,\n",
        "       '.': 0, '(': 1, ')': 2,\n",
        "       'B':0, 'E': 1, 'H': 2, 'I': 3, 'M': 4, 'S': 5, 'X': 6,'-1':-1}\n",
        "# dic ={'A': 0,\n",
        "#  'G': 1,\n",
        "#  'U': 2,\n",
        "#  'C': 3,\n",
        "#  '.': 4,\n",
        "#  '(': 5,\n",
        "#  ')': 6,\n",
        "#  'B': 7,\n",
        "#  'E': 8,\n",
        "#  'H': 9,\n",
        "#  'I': 10,\n",
        "#  'M': 11,\n",
        "#  'S': 12,\n",
        "#  'X': 13,\n",
        "#  '-1':-1}\n",
        "cat_feat[OE] = cat_feat[OE].replace(dic)"
      ]
    },
    {
      "cell_type": "code",
      "source": [
        "# for all data\n",
        "df_train[OE] = df_train[OE].replace(dic)"
      ],
      "metadata": {
        "id": "L39ZTmmI5VTi"
      },
      "execution_count": null,
      "outputs": []
    },
    {
      "cell_type": "code",
      "source": [
        "OE = ['b1_sequence', 'a1_sequence', 'b1_structure', 'a1_structure',\n",
        "       'b1_predicted_loop_type', 'a1_predicted_loop_type', 'b2_sequence',\n",
        "       'a2_sequence', 'b2_structure', 'a2_structure', 'b2_predicted_loop_type',\n",
        "       'a2_predicted_loop_type', 'b3_sequence', 'a3_sequence', 'b3_structure',\n",
        "       'a3_structure', 'b3_predicted_loop_type', 'a3_predicted_loop_type',\n",
        "       'b4_sequence', 'a4_sequence', 'b4_structure', 'a4_structure',\n",
        "       'b4_predicted_loop_type', 'a4_predicted_loop_type', 'b5_sequence',\n",
        "       'a5_sequence', 'b5_structure', 'a5_structure', 'b5_predicted_loop_type',\n",
        "       'a5_predicted_loop_type']\n",
        "dic = {'A':'0', 'G': '1', 'U': '2', 'C': '3',\n",
        "       '.': '0', '(': '1', ')': '2',\n",
        "       'B':'0', 'E': '1', 'H': '2', 'I': '3', 'M': '4', 'S': '5', 'X': '6','-1':''}"
      ],
      "metadata": {
        "id": "tn5ZlZuQAkBp"
      },
      "execution_count": null,
      "outputs": []
    },
    {
      "cell_type": "code",
      "source": [
        "df_train[OE] = df_train[OE].replace(dic)"
      ],
      "metadata": {
        "id": "x6KYO5psWUSJ"
      },
      "execution_count": null,
      "outputs": []
    },
    {
      "cell_type": "code",
      "source": [
        "# df_train = df_train.join(structure)\n",
        "# df_train = df_train.join(predicted_loop_type)\n",
        "df_train"
      ],
      "metadata": {
        "id": "Ac-AQVGxql6K"
      },
      "execution_count": null,
      "outputs": []
    },
    {
      "cell_type": "code",
      "source": [
        "df_train['predicted_loop_type_a']=df_train['a1_predicted_loop_type']\n",
        "df_train['predicted_loop_type_b']=df_train['a1_predicted_loop_type']\n",
        "df_train['sequence_a']=df_train['a1_predicted_loop_type']\n",
        "df_train['sequence_b']=df_train['a1_predicted_loop_type']\n",
        "df_train['structure_a']=df_train['a1_predicted_loop_type']\n",
        "df_train['structure_b']=df_train['a1_predicted_loop_type']"
      ],
      "metadata": {
        "id": "au8tG-BJ-Dl0"
      },
      "execution_count": null,
      "outputs": []
    },
    {
      "cell_type": "code",
      "source": [
        "for i in range(len(df_train)):\n",
        "\n",
        "  df_train['predicted_loop_type_a'][i]=f\"{df_train['a1_predicted_loop_type'][i]}{df_train['a2_predicted_loop_type'][i]}{df_train['a3_predicted_loop_type'][i]}{df_train['a4_predicted_loop_type'][i]}{df_train['a5_predicted_loop_type'][i]}\"\n",
        "  df_train['predicted_loop_type_b'][i]=f\"{df_train['b1_predicted_loop_type'][i]}{df_train['b2_predicted_loop_type'][i]}{df_train['b3_predicted_loop_type'][i]}{df_train['b4_predicted_loop_type'][i]}{df_train['b5_predicted_loop_type'][i]}\"\n",
        "  df_train['sequence_a'][i]=f\"{df_train['a1_sequence'][i]}{df_train['a2_sequence'][i]}{df_train['a3_sequence'][i]}{df_train['a4_sequence'][i]}{df_train['a5_sequence'][i]}\"\n",
        "  df_train['sequence_b'][i]=f\"{df_train['b1_sequence'][i]}{df_train['b2_sequence'][i]}{df_train['b3_sequence'][i]}{df_train['b4_sequence'][i]}{df_train['b5_sequence'][i]}\"\n",
        "  df_train['structure_a'][i]=f\"{df_train['a1_structure'][i]}{df_train['a2_structure'][i]}{df_train['a3_structure'][i]}{df_train['a4_structure'][i]}{df_train['a5_structure'][i]}\"\n",
        "  df_train['structure_b'][i]=f\"{df_train['b1_structure'][i]}{df_train['b2_structure'][i]}{df_train['b3_structure'][i]}{df_train['b4_structure'][i]}{df_train['b5_structure'][i]}\"\n"
      ],
      "metadata": {
        "colab": {
          "base_uri": "https://localhost:8080/"
        },
        "id": "N51DZbT46r74",
        "outputId": "9a2a3d00-612b-4948-b9ae-ae7bf7bbd4fd"
      },
      "execution_count": null,
      "outputs": [
        {
          "output_type": "stream",
          "name": "stderr",
          "text": [
            "<ipython-input-41-e5aaa7e52424>:3: SettingWithCopyWarning: \n",
            "A value is trying to be set on a copy of a slice from a DataFrame\n",
            "\n",
            "See the caveats in the documentation: https://pandas.pydata.org/pandas-docs/stable/user_guide/indexing.html#returning-a-view-versus-a-copy\n",
            "  df_train['predicted_loop_type_a'][i]=f\"{df_train['a1_predicted_loop_type'][i]}{df_train['a2_predicted_loop_type'][i]}{df_train['a3_predicted_loop_type'][i]}{df_train['a4_predicted_loop_type'][i]}{df_train['a5_predicted_loop_type'][i]}\"\n",
            "<ipython-input-41-e5aaa7e52424>:4: SettingWithCopyWarning: \n",
            "A value is trying to be set on a copy of a slice from a DataFrame\n",
            "\n",
            "See the caveats in the documentation: https://pandas.pydata.org/pandas-docs/stable/user_guide/indexing.html#returning-a-view-versus-a-copy\n",
            "  df_train['predicted_loop_type_b'][i]=f\"{df_train['b1_predicted_loop_type'][i]}{df_train['b2_predicted_loop_type'][i]}{df_train['b3_predicted_loop_type'][i]}{df_train['b4_predicted_loop_type'][i]}{df_train['b5_predicted_loop_type'][i]}\"\n",
            "<ipython-input-41-e5aaa7e52424>:5: SettingWithCopyWarning: \n",
            "A value is trying to be set on a copy of a slice from a DataFrame\n",
            "\n",
            "See the caveats in the documentation: https://pandas.pydata.org/pandas-docs/stable/user_guide/indexing.html#returning-a-view-versus-a-copy\n",
            "  df_train['sequence_a'][i]=f\"{df_train['a1_sequence'][i]}{df_train['a2_sequence'][i]}{df_train['a3_sequence'][i]}{df_train['a4_sequence'][i]}{df_train['a5_sequence'][i]}\"\n",
            "<ipython-input-41-e5aaa7e52424>:6: SettingWithCopyWarning: \n",
            "A value is trying to be set on a copy of a slice from a DataFrame\n",
            "\n",
            "See the caveats in the documentation: https://pandas.pydata.org/pandas-docs/stable/user_guide/indexing.html#returning-a-view-versus-a-copy\n",
            "  df_train['sequence_b'][i]=f\"{df_train['b1_sequence'][i]}{df_train['b2_sequence'][i]}{df_train['b3_sequence'][i]}{df_train['b4_sequence'][i]}{df_train['b5_sequence'][i]}\"\n",
            "<ipython-input-41-e5aaa7e52424>:7: SettingWithCopyWarning: \n",
            "A value is trying to be set on a copy of a slice from a DataFrame\n",
            "\n",
            "See the caveats in the documentation: https://pandas.pydata.org/pandas-docs/stable/user_guide/indexing.html#returning-a-view-versus-a-copy\n",
            "  df_train['structure_a'][i]=f\"{df_train['a1_structure'][i]}{df_train['a2_structure'][i]}{df_train['a3_structure'][i]}{df_train['a4_structure'][i]}{df_train['a5_structure'][i]}\"\n",
            "<ipython-input-41-e5aaa7e52424>:8: SettingWithCopyWarning: \n",
            "A value is trying to be set on a copy of a slice from a DataFrame\n",
            "\n",
            "See the caveats in the documentation: https://pandas.pydata.org/pandas-docs/stable/user_guide/indexing.html#returning-a-view-versus-a-copy\n",
            "  df_train['structure_b'][i]=f\"{df_train['b1_structure'][i]}{df_train['b2_structure'][i]}{df_train['b3_structure'][i]}{df_train['b4_structure'][i]}{df_train['b5_structure'][i]}\"\n"
          ]
        }
      ]
    },
    {
      "cell_type": "code",
      "source": [
        "df_train.drop(['a1_predicted_loop_type','a2_predicted_loop_type','a3_predicted_loop_type','a4_predicted_loop_type','a5_predicted_loop_type',\n",
        "               'b1_predicted_loop_type','b2_predicted_loop_type','b3_predicted_loop_type','b4_predicted_loop_type','b5_predicted_loop_type',\n",
        "               'a1_sequence','a2_sequence','a3_sequence','a4_sequence','a5_sequence',\n",
        "               'b1_sequence','b2_sequence','b3_sequence','b4_sequence','b5_sequence',\n",
        "               'a1_structure','a2_structure','a3_structure','a4_structure','a5_structure',\n",
        "               'b1_structure','b2_structure','b3_structure','b4_structure','b5_structure'],inplace=True,axis=1)"
      ],
      "metadata": {
        "id": "mMJKgiN0r26R"
      },
      "execution_count": null,
      "outputs": []
    },
    {
      "cell_type": "code",
      "source": [
        "sequence_b_counts=[]\n",
        "for i in df_train['sequence_b'] :\n",
        "  sequence_b_counts.append(len(i))\n",
        "sequence_a_counts=[]\n",
        "for i in df_train['sequence_a'] :\n",
        "  sequence_a_counts.append(len(i))\n",
        "\n",
        "predicted_loop_type_a_counts=[]\n",
        "for i in df_train['predicted_loop_type_a'] :\n",
        "  predicted_loop_type_a_counts.append(len(i))\n",
        "predicted_loop_type_b_counts=[]\n",
        "for i in df_train['predicted_loop_type_b'] :\n",
        "  predicted_loop_type_b_counts.append(len(i))\n",
        "\n",
        "\n",
        "structure_a_counts=[]\n",
        "for i in df_train['structure_a'] :\n",
        "  structure_a_counts.append(len(i))\n",
        "structure_b_counts=[]\n",
        "for i in df_train['structure_b'] :\n",
        "  structure_b_counts.append(len(i))"
      ],
      "metadata": {
        "id": "AUx3y3rv_2Qh"
      },
      "execution_count": null,
      "outputs": []
    },
    {
      "cell_type": "code",
      "source": [
        "df_train['sequence_a_counts']=sequence_a_counts\n",
        "df_train['sequence_b_counts']=sequence_b_counts\n",
        "df_train['predicted_loop_type_a_counts']=predicted_loop_type_a_counts\n",
        "df_train['predicted_loop_type_b_counts']=predicted_loop_type_b_counts\n",
        "df_train['structure_a_counts']=structure_a_counts\n",
        "df_train['structure_b_counts']=structure_b_counts"
      ],
      "metadata": {
        "id": "GNAkRXGwAZ-3"
      },
      "execution_count": null,
      "outputs": []
    },
    {
      "cell_type": "code",
      "source": [
        "df_train.drop(['predicted_loop_type_a',\t'predicted_loop_type_b'\t,'sequence_a',\t'sequence_b',\t'structure_a'\t,'structure_b'],inplace=True,axis=1)"
      ],
      "metadata": {
        "id": "SY2mrF8CPO9j"
      },
      "execution_count": null,
      "outputs": []
    },
    {
      "cell_type": "code",
      "source": [
        "df_train['sequence']=df_train['sequence'].astype('int')\n",
        "df_train['structure']=df_train['structure'].astype('int')\n",
        "df_train['predicted_loop_type']=df_train['predicted_loop_type'].astype('int')"
      ],
      "metadata": {
        "id": "c1bWtmzpG1ft"
      },
      "execution_count": null,
      "outputs": []
    },
    {
      "cell_type": "code",
      "source": [
        "for i in ['a1_predicted_loop_type','a2_predicted_loop_type','a3_predicted_loop_type','a4_predicted_loop_type','a5_predicted_loop_type',\n",
        "               'b1_predicted_loop_type','b2_predicted_loop_type','b3_predicted_loop_type','b4_predicted_loop_type','b5_predicted_loop_type',\n",
        "               'a1_sequence','a2_sequence','a3_sequence','a4_sequence','a5_sequence',\n",
        "               'b1_sequence','b2_sequence','b3_sequence','b4_sequence','b5_sequence',\n",
        "               'a1_structure','a2_structure','a3_structure','a4_structure','a5_structure',\n",
        "               'b1_structure','b2_structure','b3_structure','b4_structure','b5_structure']:\n",
        "  df_train[i]=df_train[i].astype('int')"
      ],
      "metadata": {
        "colab": {
          "base_uri": "https://localhost:8080/",
          "height": 268
        },
        "id": "n-khonmmgZzb",
        "outputId": "621d0f5d-18ab-4d10-9b2a-7caa3bf0c6fe"
      },
      "execution_count": null,
      "outputs": [
        {
          "output_type": "error",
          "ename": "ValueError",
          "evalue": "ignored",
          "traceback": [
            "\u001b[0;31m---------------------------------------------------------------------------\u001b[0m",
            "\u001b[0;31mValueError\u001b[0m                                Traceback (most recent call last)",
            "\u001b[0;32m<ipython-input-46-16dd1ece25da>\u001b[0m in \u001b[0;36m<module>\u001b[0;34m\u001b[0m\n\u001b[1;32m      5\u001b[0m                \u001b[0;34m'a1_structure'\u001b[0m\u001b[0;34m,\u001b[0m\u001b[0;34m'a2_structure'\u001b[0m\u001b[0;34m,\u001b[0m\u001b[0;34m'a3_structure'\u001b[0m\u001b[0;34m,\u001b[0m\u001b[0;34m'a4_structure'\u001b[0m\u001b[0;34m,\u001b[0m\u001b[0;34m'a5_structure'\u001b[0m\u001b[0;34m,\u001b[0m\u001b[0;34m\u001b[0m\u001b[0;34m\u001b[0m\u001b[0m\n\u001b[1;32m      6\u001b[0m                'b1_structure','b2_structure','b3_structure','b4_structure','b5_structure']:\n\u001b[0;32m----> 7\u001b[0;31m   \u001b[0mdf_train\u001b[0m\u001b[0;34m[\u001b[0m\u001b[0mi\u001b[0m\u001b[0;34m]\u001b[0m\u001b[0;34m=\u001b[0m\u001b[0mdf_train\u001b[0m\u001b[0;34m[\u001b[0m\u001b[0mi\u001b[0m\u001b[0;34m]\u001b[0m\u001b[0;34m.\u001b[0m\u001b[0mastype\u001b[0m\u001b[0;34m(\u001b[0m\u001b[0;34m'int'\u001b[0m\u001b[0;34m)\u001b[0m\u001b[0;34m\u001b[0m\u001b[0;34m\u001b[0m\u001b[0m\n\u001b[0m",
            "\u001b[0;32m/usr/local/lib/python3.8/dist-packages/pandas/core/generic.py\u001b[0m in \u001b[0;36mastype\u001b[0;34m(self, dtype, copy, errors)\u001b[0m\n\u001b[1;32m   5813\u001b[0m         \u001b[0;32melse\u001b[0m\u001b[0;34m:\u001b[0m\u001b[0;34m\u001b[0m\u001b[0;34m\u001b[0m\u001b[0m\n\u001b[1;32m   5814\u001b[0m             \u001b[0;31m# else, only a single dtype is given\u001b[0m\u001b[0;34m\u001b[0m\u001b[0;34m\u001b[0m\u001b[0;34m\u001b[0m\u001b[0m\n\u001b[0;32m-> 5815\u001b[0;31m             \u001b[0mnew_data\u001b[0m \u001b[0;34m=\u001b[0m \u001b[0mself\u001b[0m\u001b[0;34m.\u001b[0m\u001b[0m_mgr\u001b[0m\u001b[0;34m.\u001b[0m\u001b[0mastype\u001b[0m\u001b[0;34m(\u001b[0m\u001b[0mdtype\u001b[0m\u001b[0;34m=\u001b[0m\u001b[0mdtype\u001b[0m\u001b[0;34m,\u001b[0m \u001b[0mcopy\u001b[0m\u001b[0;34m=\u001b[0m\u001b[0mcopy\u001b[0m\u001b[0;34m,\u001b[0m \u001b[0merrors\u001b[0m\u001b[0;34m=\u001b[0m\u001b[0merrors\u001b[0m\u001b[0;34m)\u001b[0m\u001b[0;34m\u001b[0m\u001b[0;34m\u001b[0m\u001b[0m\n\u001b[0m\u001b[1;32m   5816\u001b[0m             \u001b[0;32mreturn\u001b[0m \u001b[0mself\u001b[0m\u001b[0;34m.\u001b[0m\u001b[0m_constructor\u001b[0m\u001b[0;34m(\u001b[0m\u001b[0mnew_data\u001b[0m\u001b[0;34m)\u001b[0m\u001b[0;34m.\u001b[0m\u001b[0m__finalize__\u001b[0m\u001b[0;34m(\u001b[0m\u001b[0mself\u001b[0m\u001b[0;34m,\u001b[0m \u001b[0mmethod\u001b[0m\u001b[0;34m=\u001b[0m\u001b[0;34m\"astype\"\u001b[0m\u001b[0;34m)\u001b[0m\u001b[0;34m\u001b[0m\u001b[0;34m\u001b[0m\u001b[0m\n\u001b[1;32m   5817\u001b[0m \u001b[0;34m\u001b[0m\u001b[0m\n",
            "\u001b[0;32m/usr/local/lib/python3.8/dist-packages/pandas/core/internals/managers.py\u001b[0m in \u001b[0;36mastype\u001b[0;34m(self, dtype, copy, errors)\u001b[0m\n\u001b[1;32m    416\u001b[0m \u001b[0;34m\u001b[0m\u001b[0m\n\u001b[1;32m    417\u001b[0m     \u001b[0;32mdef\u001b[0m \u001b[0mastype\u001b[0m\u001b[0;34m(\u001b[0m\u001b[0mself\u001b[0m\u001b[0;34m:\u001b[0m \u001b[0mT\u001b[0m\u001b[0;34m,\u001b[0m \u001b[0mdtype\u001b[0m\u001b[0;34m,\u001b[0m \u001b[0mcopy\u001b[0m\u001b[0;34m:\u001b[0m \u001b[0mbool\u001b[0m \u001b[0;34m=\u001b[0m \u001b[0;32mFalse\u001b[0m\u001b[0;34m,\u001b[0m \u001b[0merrors\u001b[0m\u001b[0;34m:\u001b[0m \u001b[0mstr\u001b[0m \u001b[0;34m=\u001b[0m \u001b[0;34m\"raise\"\u001b[0m\u001b[0;34m)\u001b[0m \u001b[0;34m->\u001b[0m \u001b[0mT\u001b[0m\u001b[0;34m:\u001b[0m\u001b[0;34m\u001b[0m\u001b[0;34m\u001b[0m\u001b[0m\n\u001b[0;32m--> 418\u001b[0;31m         \u001b[0;32mreturn\u001b[0m \u001b[0mself\u001b[0m\u001b[0;34m.\u001b[0m\u001b[0mapply\u001b[0m\u001b[0;34m(\u001b[0m\u001b[0;34m\"astype\"\u001b[0m\u001b[0;34m,\u001b[0m \u001b[0mdtype\u001b[0m\u001b[0;34m=\u001b[0m\u001b[0mdtype\u001b[0m\u001b[0;34m,\u001b[0m \u001b[0mcopy\u001b[0m\u001b[0;34m=\u001b[0m\u001b[0mcopy\u001b[0m\u001b[0;34m,\u001b[0m \u001b[0merrors\u001b[0m\u001b[0;34m=\u001b[0m\u001b[0merrors\u001b[0m\u001b[0;34m)\u001b[0m\u001b[0;34m\u001b[0m\u001b[0;34m\u001b[0m\u001b[0m\n\u001b[0m\u001b[1;32m    419\u001b[0m \u001b[0;34m\u001b[0m\u001b[0m\n\u001b[1;32m    420\u001b[0m     def convert(\n",
            "\u001b[0;32m/usr/local/lib/python3.8/dist-packages/pandas/core/internals/managers.py\u001b[0m in \u001b[0;36mapply\u001b[0;34m(self, f, align_keys, ignore_failures, **kwargs)\u001b[0m\n\u001b[1;32m    325\u001b[0m                     \u001b[0mapplied\u001b[0m \u001b[0;34m=\u001b[0m \u001b[0mb\u001b[0m\u001b[0;34m.\u001b[0m\u001b[0mapply\u001b[0m\u001b[0;34m(\u001b[0m\u001b[0mf\u001b[0m\u001b[0;34m,\u001b[0m \u001b[0;34m**\u001b[0m\u001b[0mkwargs\u001b[0m\u001b[0;34m)\u001b[0m\u001b[0;34m\u001b[0m\u001b[0;34m\u001b[0m\u001b[0m\n\u001b[1;32m    326\u001b[0m                 \u001b[0;32melse\u001b[0m\u001b[0;34m:\u001b[0m\u001b[0;34m\u001b[0m\u001b[0;34m\u001b[0m\u001b[0m\n\u001b[0;32m--> 327\u001b[0;31m                     \u001b[0mapplied\u001b[0m \u001b[0;34m=\u001b[0m \u001b[0mgetattr\u001b[0m\u001b[0;34m(\u001b[0m\u001b[0mb\u001b[0m\u001b[0;34m,\u001b[0m \u001b[0mf\u001b[0m\u001b[0;34m)\u001b[0m\u001b[0;34m(\u001b[0m\u001b[0;34m**\u001b[0m\u001b[0mkwargs\u001b[0m\u001b[0;34m)\u001b[0m\u001b[0;34m\u001b[0m\u001b[0;34m\u001b[0m\u001b[0m\n\u001b[0m\u001b[1;32m    328\u001b[0m             \u001b[0;32mexcept\u001b[0m \u001b[0;34m(\u001b[0m\u001b[0mTypeError\u001b[0m\u001b[0;34m,\u001b[0m \u001b[0mNotImplementedError\u001b[0m\u001b[0;34m)\u001b[0m\u001b[0;34m:\u001b[0m\u001b[0;34m\u001b[0m\u001b[0;34m\u001b[0m\u001b[0m\n\u001b[1;32m    329\u001b[0m                 \u001b[0;32mif\u001b[0m \u001b[0;32mnot\u001b[0m \u001b[0mignore_failures\u001b[0m\u001b[0;34m:\u001b[0m\u001b[0;34m\u001b[0m\u001b[0;34m\u001b[0m\u001b[0m\n",
            "\u001b[0;32m/usr/local/lib/python3.8/dist-packages/pandas/core/internals/blocks.py\u001b[0m in \u001b[0;36mastype\u001b[0;34m(self, dtype, copy, errors)\u001b[0m\n\u001b[1;32m    589\u001b[0m         \u001b[0mvalues\u001b[0m \u001b[0;34m=\u001b[0m \u001b[0mself\u001b[0m\u001b[0;34m.\u001b[0m\u001b[0mvalues\u001b[0m\u001b[0;34m\u001b[0m\u001b[0;34m\u001b[0m\u001b[0m\n\u001b[1;32m    590\u001b[0m \u001b[0;34m\u001b[0m\u001b[0m\n\u001b[0;32m--> 591\u001b[0;31m         \u001b[0mnew_values\u001b[0m \u001b[0;34m=\u001b[0m \u001b[0mastype_array_safe\u001b[0m\u001b[0;34m(\u001b[0m\u001b[0mvalues\u001b[0m\u001b[0;34m,\u001b[0m \u001b[0mdtype\u001b[0m\u001b[0;34m,\u001b[0m \u001b[0mcopy\u001b[0m\u001b[0;34m=\u001b[0m\u001b[0mcopy\u001b[0m\u001b[0;34m,\u001b[0m \u001b[0merrors\u001b[0m\u001b[0;34m=\u001b[0m\u001b[0merrors\u001b[0m\u001b[0;34m)\u001b[0m\u001b[0;34m\u001b[0m\u001b[0;34m\u001b[0m\u001b[0m\n\u001b[0m\u001b[1;32m    592\u001b[0m \u001b[0;34m\u001b[0m\u001b[0m\n\u001b[1;32m    593\u001b[0m         \u001b[0mnew_values\u001b[0m \u001b[0;34m=\u001b[0m \u001b[0mmaybe_coerce_values\u001b[0m\u001b[0;34m(\u001b[0m\u001b[0mnew_values\u001b[0m\u001b[0;34m)\u001b[0m\u001b[0;34m\u001b[0m\u001b[0;34m\u001b[0m\u001b[0m\n",
            "\u001b[0;32m/usr/local/lib/python3.8/dist-packages/pandas/core/dtypes/cast.py\u001b[0m in \u001b[0;36mastype_array_safe\u001b[0;34m(values, dtype, copy, errors)\u001b[0m\n\u001b[1;32m   1307\u001b[0m \u001b[0;34m\u001b[0m\u001b[0m\n\u001b[1;32m   1308\u001b[0m     \u001b[0;32mtry\u001b[0m\u001b[0;34m:\u001b[0m\u001b[0;34m\u001b[0m\u001b[0;34m\u001b[0m\u001b[0m\n\u001b[0;32m-> 1309\u001b[0;31m         \u001b[0mnew_values\u001b[0m \u001b[0;34m=\u001b[0m \u001b[0mastype_array\u001b[0m\u001b[0;34m(\u001b[0m\u001b[0mvalues\u001b[0m\u001b[0;34m,\u001b[0m \u001b[0mdtype\u001b[0m\u001b[0;34m,\u001b[0m \u001b[0mcopy\u001b[0m\u001b[0;34m=\u001b[0m\u001b[0mcopy\u001b[0m\u001b[0;34m)\u001b[0m\u001b[0;34m\u001b[0m\u001b[0;34m\u001b[0m\u001b[0m\n\u001b[0m\u001b[1;32m   1310\u001b[0m     \u001b[0;32mexcept\u001b[0m \u001b[0;34m(\u001b[0m\u001b[0mValueError\u001b[0m\u001b[0;34m,\u001b[0m \u001b[0mTypeError\u001b[0m\u001b[0;34m)\u001b[0m\u001b[0;34m:\u001b[0m\u001b[0;34m\u001b[0m\u001b[0;34m\u001b[0m\u001b[0m\n\u001b[1;32m   1311\u001b[0m         \u001b[0;31m# e.g. astype_nansafe can fail on object-dtype of strings\u001b[0m\u001b[0;34m\u001b[0m\u001b[0;34m\u001b[0m\u001b[0;34m\u001b[0m\u001b[0m\n",
            "\u001b[0;32m/usr/local/lib/python3.8/dist-packages/pandas/core/dtypes/cast.py\u001b[0m in \u001b[0;36mastype_array\u001b[0;34m(values, dtype, copy)\u001b[0m\n\u001b[1;32m   1255\u001b[0m \u001b[0;34m\u001b[0m\u001b[0m\n\u001b[1;32m   1256\u001b[0m     \u001b[0;32melse\u001b[0m\u001b[0;34m:\u001b[0m\u001b[0;34m\u001b[0m\u001b[0;34m\u001b[0m\u001b[0m\n\u001b[0;32m-> 1257\u001b[0;31m         \u001b[0mvalues\u001b[0m \u001b[0;34m=\u001b[0m \u001b[0mastype_nansafe\u001b[0m\u001b[0;34m(\u001b[0m\u001b[0mvalues\u001b[0m\u001b[0;34m,\u001b[0m \u001b[0mdtype\u001b[0m\u001b[0;34m,\u001b[0m \u001b[0mcopy\u001b[0m\u001b[0;34m=\u001b[0m\u001b[0mcopy\u001b[0m\u001b[0;34m)\u001b[0m\u001b[0;34m\u001b[0m\u001b[0;34m\u001b[0m\u001b[0m\n\u001b[0m\u001b[1;32m   1258\u001b[0m \u001b[0;34m\u001b[0m\u001b[0m\n\u001b[1;32m   1259\u001b[0m     \u001b[0;31m# in pandas we don't store numpy str dtypes, so convert to object\u001b[0m\u001b[0;34m\u001b[0m\u001b[0;34m\u001b[0m\u001b[0;34m\u001b[0m\u001b[0m\n",
            "\u001b[0;32m/usr/local/lib/python3.8/dist-packages/pandas/core/dtypes/cast.py\u001b[0m in \u001b[0;36mastype_nansafe\u001b[0;34m(arr, dtype, copy, skipna)\u001b[0m\n\u001b[1;32m   1172\u001b[0m         \u001b[0;31m# work around NumPy brokenness, #1987\u001b[0m\u001b[0;34m\u001b[0m\u001b[0;34m\u001b[0m\u001b[0;34m\u001b[0m\u001b[0m\n\u001b[1;32m   1173\u001b[0m         \u001b[0;32mif\u001b[0m \u001b[0mnp\u001b[0m\u001b[0;34m.\u001b[0m\u001b[0missubdtype\u001b[0m\u001b[0;34m(\u001b[0m\u001b[0mdtype\u001b[0m\u001b[0;34m.\u001b[0m\u001b[0mtype\u001b[0m\u001b[0;34m,\u001b[0m \u001b[0mnp\u001b[0m\u001b[0;34m.\u001b[0m\u001b[0minteger\u001b[0m\u001b[0;34m)\u001b[0m\u001b[0;34m:\u001b[0m\u001b[0;34m\u001b[0m\u001b[0;34m\u001b[0m\u001b[0m\n\u001b[0;32m-> 1174\u001b[0;31m             \u001b[0;32mreturn\u001b[0m \u001b[0mlib\u001b[0m\u001b[0;34m.\u001b[0m\u001b[0mastype_intsafe\u001b[0m\u001b[0;34m(\u001b[0m\u001b[0marr\u001b[0m\u001b[0;34m,\u001b[0m \u001b[0mdtype\u001b[0m\u001b[0;34m)\u001b[0m\u001b[0;34m\u001b[0m\u001b[0;34m\u001b[0m\u001b[0m\n\u001b[0m\u001b[1;32m   1175\u001b[0m \u001b[0;34m\u001b[0m\u001b[0m\n\u001b[1;32m   1176\u001b[0m         \u001b[0;31m# if we have a datetime/timedelta array of objects\u001b[0m\u001b[0;34m\u001b[0m\u001b[0;34m\u001b[0m\u001b[0;34m\u001b[0m\u001b[0m\n",
            "\u001b[0;32m/usr/local/lib/python3.8/dist-packages/pandas/_libs/lib.pyx\u001b[0m in \u001b[0;36mpandas._libs.lib.astype_intsafe\u001b[0;34m()\u001b[0m\n",
            "\u001b[0;31mValueError\u001b[0m: invalid literal for int() with base 10: ''"
          ]
        }
      ]
    },
    {
      "cell_type": "code",
      "source": [
        "df_train"
      ],
      "metadata": {
        "colab": {
          "base_uri": "https://localhost:8080/",
          "height": 487
        },
        "id": "F9THQdBOPl4O",
        "outputId": "aef1528c-eace-41a2-ba69-c4bfd203a365"
      },
      "execution_count": null,
      "outputs": [
        {
          "output_type": "execute_result",
          "data": {
            "text/plain": [
              "        sequence  structure  predicted_loop_type  reactivity_error  \\\n",
              "0              0          0                    2            0.1195   \n",
              "1              1          0                    3            0.1033   \n",
              "2              1          1                    5            0.1375   \n",
              "3              1          1                    5            0.0471   \n",
              "4              2          1                    5            0.1352   \n",
              "...          ...        ...                  ...               ...   \n",
              "130555         2          2                    5            0.0393   \n",
              "130556         0          0                    6            0.0351   \n",
              "130557         0          0                    2            0.0601   \n",
              "130558         1          0                    3            0.1063   \n",
              "130559         3          0                    3            0.0427   \n",
              "\n",
              "        deg_error_Mg_pH10  deg_pH10  deg_error_pH10  deg_error_Mg_50C  \\\n",
              "0                  0.0790    0.3680          0.0851            0.0792   \n",
              "1                  0.0799    0.0878          0.0878            0.0683   \n",
              "2                  0.0744    0.1835          0.1969            0.1163   \n",
              "3                  0.1075    0.0657          0.0615            0.0506   \n",
              "4                  0.2168    0.3375          0.2623            0.1569   \n",
              "...                   ...       ...             ...               ...   \n",
              "130555             0.0728    0.1479          0.0493            0.0481   \n",
              "130556             0.0583    0.0580          0.0660            0.0419   \n",
              "130557             0.0515    0.2838          0.0793            0.0528   \n",
              "130558             0.0738    0.1885          0.1276            0.0773   \n",
              "130559             0.0687    0.2811          0.0800            0.0661   \n",
              "\n",
              "        deg_50C  deg_error_50C  ...  b4_structure  a4_structure  \\\n",
              "0        0.5685         0.1051  ...             1             2   \n",
              "1        0.0666         0.0864  ...             1             0   \n",
              "2        0.0000         0.1088  ...             1             1   \n",
              "3        0.0749         0.0913  ...             0             1   \n",
              "4        0.6247         0.3370  ...             1             1   \n",
              "...         ...            ...  ...           ...           ...   \n",
              "130555   0.4711         0.0883  ...             2             2   \n",
              "130556   0.2559         0.1039  ...             0             0   \n",
              "130557   0.3089         0.0861  ...             0             0   \n",
              "130558   0.1001         0.1234  ...             2             0   \n",
              "130559   0.2609         0.0836  ...             2             2   \n",
              "\n",
              "        b4_predicted_loop_type  a4_predicted_loop_type  b5_sequence  \\\n",
              "0                            5                       5            3   \n",
              "1                            5                       2            3   \n",
              "2                            5                       5            0   \n",
              "3                            1                       5            0   \n",
              "4                            5                       5            1   \n",
              "...                        ...                     ...          ...   \n",
              "130555                       5                       5            0   \n",
              "130556                       2                       6            0   \n",
              "130557                       2                       3            2   \n",
              "130558                       5                       3            1   \n",
              "130559                       5                       5            3   \n",
              "\n",
              "        a5_sequence  b5_structure  a5_structure  b5_predicted_loop_type  \\\n",
              "0                 0             0             2                       3   \n",
              "1                 3             0             0                       0   \n",
              "2                 1             1             1                       5   \n",
              "3                 2             0             1                       1   \n",
              "4                 1             1             0                       5   \n",
              "...             ...           ...           ...                     ...   \n",
              "130555            0             0             0                       2   \n",
              "130556            2             0             0                       2   \n",
              "130557            2             0             2                       2   \n",
              "130558            1             2             2                       5   \n",
              "130559            2             2             2                       5   \n",
              "\n",
              "        a5_predicted_loop_type  \n",
              "0                            5  \n",
              "1                            2  \n",
              "2                            5  \n",
              "3                            5  \n",
              "4                            2  \n",
              "...                        ...  \n",
              "130555                       4  \n",
              "130556                       6  \n",
              "130557                       5  \n",
              "130558                       5  \n",
              "130559                       5  \n",
              "\n",
              "[130560 rows x 40 columns]"
            ],
            "text/html": [
              "\n",
              "  <div id=\"df-b88a91ec-fa9a-4a2b-b85c-d60afd1c87fc\">\n",
              "    <div class=\"colab-df-container\">\n",
              "      <div>\n",
              "<style scoped>\n",
              "    .dataframe tbody tr th:only-of-type {\n",
              "        vertical-align: middle;\n",
              "    }\n",
              "\n",
              "    .dataframe tbody tr th {\n",
              "        vertical-align: top;\n",
              "    }\n",
              "\n",
              "    .dataframe thead th {\n",
              "        text-align: right;\n",
              "    }\n",
              "</style>\n",
              "<table border=\"1\" class=\"dataframe\">\n",
              "  <thead>\n",
              "    <tr style=\"text-align: right;\">\n",
              "      <th></th>\n",
              "      <th>sequence</th>\n",
              "      <th>structure</th>\n",
              "      <th>predicted_loop_type</th>\n",
              "      <th>reactivity_error</th>\n",
              "      <th>deg_error_Mg_pH10</th>\n",
              "      <th>deg_pH10</th>\n",
              "      <th>deg_error_pH10</th>\n",
              "      <th>deg_error_Mg_50C</th>\n",
              "      <th>deg_50C</th>\n",
              "      <th>deg_error_50C</th>\n",
              "      <th>...</th>\n",
              "      <th>b4_structure</th>\n",
              "      <th>a4_structure</th>\n",
              "      <th>b4_predicted_loop_type</th>\n",
              "      <th>a4_predicted_loop_type</th>\n",
              "      <th>b5_sequence</th>\n",
              "      <th>a5_sequence</th>\n",
              "      <th>b5_structure</th>\n",
              "      <th>a5_structure</th>\n",
              "      <th>b5_predicted_loop_type</th>\n",
              "      <th>a5_predicted_loop_type</th>\n",
              "    </tr>\n",
              "  </thead>\n",
              "  <tbody>\n",
              "    <tr>\n",
              "      <th>0</th>\n",
              "      <td>0</td>\n",
              "      <td>0</td>\n",
              "      <td>2</td>\n",
              "      <td>0.1195</td>\n",
              "      <td>0.0790</td>\n",
              "      <td>0.3680</td>\n",
              "      <td>0.0851</td>\n",
              "      <td>0.0792</td>\n",
              "      <td>0.5685</td>\n",
              "      <td>0.1051</td>\n",
              "      <td>...</td>\n",
              "      <td>1</td>\n",
              "      <td>2</td>\n",
              "      <td>5</td>\n",
              "      <td>5</td>\n",
              "      <td>3</td>\n",
              "      <td>0</td>\n",
              "      <td>0</td>\n",
              "      <td>2</td>\n",
              "      <td>3</td>\n",
              "      <td>5</td>\n",
              "    </tr>\n",
              "    <tr>\n",
              "      <th>1</th>\n",
              "      <td>1</td>\n",
              "      <td>0</td>\n",
              "      <td>3</td>\n",
              "      <td>0.1033</td>\n",
              "      <td>0.0799</td>\n",
              "      <td>0.0878</td>\n",
              "      <td>0.0878</td>\n",
              "      <td>0.0683</td>\n",
              "      <td>0.0666</td>\n",
              "      <td>0.0864</td>\n",
              "      <td>...</td>\n",
              "      <td>1</td>\n",
              "      <td>0</td>\n",
              "      <td>5</td>\n",
              "      <td>2</td>\n",
              "      <td>3</td>\n",
              "      <td>3</td>\n",
              "      <td>0</td>\n",
              "      <td>0</td>\n",
              "      <td>0</td>\n",
              "      <td>2</td>\n",
              "    </tr>\n",
              "    <tr>\n",
              "      <th>2</th>\n",
              "      <td>1</td>\n",
              "      <td>1</td>\n",
              "      <td>5</td>\n",
              "      <td>0.1375</td>\n",
              "      <td>0.0744</td>\n",
              "      <td>0.1835</td>\n",
              "      <td>0.1969</td>\n",
              "      <td>0.1163</td>\n",
              "      <td>0.0000</td>\n",
              "      <td>0.1088</td>\n",
              "      <td>...</td>\n",
              "      <td>1</td>\n",
              "      <td>1</td>\n",
              "      <td>5</td>\n",
              "      <td>5</td>\n",
              "      <td>0</td>\n",
              "      <td>1</td>\n",
              "      <td>1</td>\n",
              "      <td>1</td>\n",
              "      <td>5</td>\n",
              "      <td>5</td>\n",
              "    </tr>\n",
              "    <tr>\n",
              "      <th>3</th>\n",
              "      <td>1</td>\n",
              "      <td>1</td>\n",
              "      <td>5</td>\n",
              "      <td>0.0471</td>\n",
              "      <td>0.1075</td>\n",
              "      <td>0.0657</td>\n",
              "      <td>0.0615</td>\n",
              "      <td>0.0506</td>\n",
              "      <td>0.0749</td>\n",
              "      <td>0.0913</td>\n",
              "      <td>...</td>\n",
              "      <td>0</td>\n",
              "      <td>1</td>\n",
              "      <td>1</td>\n",
              "      <td>5</td>\n",
              "      <td>0</td>\n",
              "      <td>2</td>\n",
              "      <td>0</td>\n",
              "      <td>1</td>\n",
              "      <td>1</td>\n",
              "      <td>5</td>\n",
              "    </tr>\n",
              "    <tr>\n",
              "      <th>4</th>\n",
              "      <td>2</td>\n",
              "      <td>1</td>\n",
              "      <td>5</td>\n",
              "      <td>0.1352</td>\n",
              "      <td>0.2168</td>\n",
              "      <td>0.3375</td>\n",
              "      <td>0.2623</td>\n",
              "      <td>0.1569</td>\n",
              "      <td>0.6247</td>\n",
              "      <td>0.3370</td>\n",
              "      <td>...</td>\n",
              "      <td>1</td>\n",
              "      <td>1</td>\n",
              "      <td>5</td>\n",
              "      <td>5</td>\n",
              "      <td>1</td>\n",
              "      <td>1</td>\n",
              "      <td>1</td>\n",
              "      <td>0</td>\n",
              "      <td>5</td>\n",
              "      <td>2</td>\n",
              "    </tr>\n",
              "    <tr>\n",
              "      <th>...</th>\n",
              "      <td>...</td>\n",
              "      <td>...</td>\n",
              "      <td>...</td>\n",
              "      <td>...</td>\n",
              "      <td>...</td>\n",
              "      <td>...</td>\n",
              "      <td>...</td>\n",
              "      <td>...</td>\n",
              "      <td>...</td>\n",
              "      <td>...</td>\n",
              "      <td>...</td>\n",
              "      <td>...</td>\n",
              "      <td>...</td>\n",
              "      <td>...</td>\n",
              "      <td>...</td>\n",
              "      <td>...</td>\n",
              "      <td>...</td>\n",
              "      <td>...</td>\n",
              "      <td>...</td>\n",
              "      <td>...</td>\n",
              "      <td>...</td>\n",
              "    </tr>\n",
              "    <tr>\n",
              "      <th>130555</th>\n",
              "      <td>2</td>\n",
              "      <td>2</td>\n",
              "      <td>5</td>\n",
              "      <td>0.0393</td>\n",
              "      <td>0.0728</td>\n",
              "      <td>0.1479</td>\n",
              "      <td>0.0493</td>\n",
              "      <td>0.0481</td>\n",
              "      <td>0.4711</td>\n",
              "      <td>0.0883</td>\n",
              "      <td>...</td>\n",
              "      <td>2</td>\n",
              "      <td>2</td>\n",
              "      <td>5</td>\n",
              "      <td>5</td>\n",
              "      <td>0</td>\n",
              "      <td>0</td>\n",
              "      <td>0</td>\n",
              "      <td>0</td>\n",
              "      <td>2</td>\n",
              "      <td>4</td>\n",
              "    </tr>\n",
              "    <tr>\n",
              "      <th>130556</th>\n",
              "      <td>0</td>\n",
              "      <td>0</td>\n",
              "      <td>6</td>\n",
              "      <td>0.0351</td>\n",
              "      <td>0.0583</td>\n",
              "      <td>0.0580</td>\n",
              "      <td>0.0660</td>\n",
              "      <td>0.0419</td>\n",
              "      <td>0.2559</td>\n",
              "      <td>0.1039</td>\n",
              "      <td>...</td>\n",
              "      <td>0</td>\n",
              "      <td>0</td>\n",
              "      <td>2</td>\n",
              "      <td>6</td>\n",
              "      <td>0</td>\n",
              "      <td>2</td>\n",
              "      <td>0</td>\n",
              "      <td>0</td>\n",
              "      <td>2</td>\n",
              "      <td>6</td>\n",
              "    </tr>\n",
              "    <tr>\n",
              "      <th>130557</th>\n",
              "      <td>0</td>\n",
              "      <td>0</td>\n",
              "      <td>2</td>\n",
              "      <td>0.0601</td>\n",
              "      <td>0.0515</td>\n",
              "      <td>0.2838</td>\n",
              "      <td>0.0793</td>\n",
              "      <td>0.0528</td>\n",
              "      <td>0.3089</td>\n",
              "      <td>0.0861</td>\n",
              "      <td>...</td>\n",
              "      <td>0</td>\n",
              "      <td>0</td>\n",
              "      <td>2</td>\n",
              "      <td>3</td>\n",
              "      <td>2</td>\n",
              "      <td>2</td>\n",
              "      <td>0</td>\n",
              "      <td>2</td>\n",
              "      <td>2</td>\n",
              "      <td>5</td>\n",
              "    </tr>\n",
              "    <tr>\n",
              "      <th>130558</th>\n",
              "      <td>1</td>\n",
              "      <td>0</td>\n",
              "      <td>3</td>\n",
              "      <td>0.1063</td>\n",
              "      <td>0.0738</td>\n",
              "      <td>0.1885</td>\n",
              "      <td>0.1276</td>\n",
              "      <td>0.0773</td>\n",
              "      <td>0.1001</td>\n",
              "      <td>0.1234</td>\n",
              "      <td>...</td>\n",
              "      <td>2</td>\n",
              "      <td>0</td>\n",
              "      <td>5</td>\n",
              "      <td>3</td>\n",
              "      <td>1</td>\n",
              "      <td>1</td>\n",
              "      <td>2</td>\n",
              "      <td>2</td>\n",
              "      <td>5</td>\n",
              "      <td>5</td>\n",
              "    </tr>\n",
              "    <tr>\n",
              "      <th>130559</th>\n",
              "      <td>3</td>\n",
              "      <td>0</td>\n",
              "      <td>3</td>\n",
              "      <td>0.0427</td>\n",
              "      <td>0.0687</td>\n",
              "      <td>0.2811</td>\n",
              "      <td>0.0800</td>\n",
              "      <td>0.0661</td>\n",
              "      <td>0.2609</td>\n",
              "      <td>0.0836</td>\n",
              "      <td>...</td>\n",
              "      <td>2</td>\n",
              "      <td>2</td>\n",
              "      <td>5</td>\n",
              "      <td>5</td>\n",
              "      <td>3</td>\n",
              "      <td>2</td>\n",
              "      <td>2</td>\n",
              "      <td>2</td>\n",
              "      <td>5</td>\n",
              "      <td>5</td>\n",
              "    </tr>\n",
              "  </tbody>\n",
              "</table>\n",
              "<p>130560 rows × 40 columns</p>\n",
              "</div>\n",
              "      <button class=\"colab-df-convert\" onclick=\"convertToInteractive('df-b88a91ec-fa9a-4a2b-b85c-d60afd1c87fc')\"\n",
              "              title=\"Convert this dataframe to an interactive table.\"\n",
              "              style=\"display:none;\">\n",
              "        \n",
              "  <svg xmlns=\"http://www.w3.org/2000/svg\" height=\"24px\"viewBox=\"0 0 24 24\"\n",
              "       width=\"24px\">\n",
              "    <path d=\"M0 0h24v24H0V0z\" fill=\"none\"/>\n",
              "    <path d=\"M18.56 5.44l.94 2.06.94-2.06 2.06-.94-2.06-.94-.94-2.06-.94 2.06-2.06.94zm-11 1L8.5 8.5l.94-2.06 2.06-.94-2.06-.94L8.5 2.5l-.94 2.06-2.06.94zm10 10l.94 2.06.94-2.06 2.06-.94-2.06-.94-.94-2.06-.94 2.06-2.06.94z\"/><path d=\"M17.41 7.96l-1.37-1.37c-.4-.4-.92-.59-1.43-.59-.52 0-1.04.2-1.43.59L10.3 9.45l-7.72 7.72c-.78.78-.78 2.05 0 2.83L4 21.41c.39.39.9.59 1.41.59.51 0 1.02-.2 1.41-.59l7.78-7.78 2.81-2.81c.8-.78.8-2.07 0-2.86zM5.41 20L4 18.59l7.72-7.72 1.47 1.35L5.41 20z\"/>\n",
              "  </svg>\n",
              "      </button>\n",
              "      \n",
              "  <style>\n",
              "    .colab-df-container {\n",
              "      display:flex;\n",
              "      flex-wrap:wrap;\n",
              "      gap: 12px;\n",
              "    }\n",
              "\n",
              "    .colab-df-convert {\n",
              "      background-color: #E8F0FE;\n",
              "      border: none;\n",
              "      border-radius: 50%;\n",
              "      cursor: pointer;\n",
              "      display: none;\n",
              "      fill: #1967D2;\n",
              "      height: 32px;\n",
              "      padding: 0 0 0 0;\n",
              "      width: 32px;\n",
              "    }\n",
              "\n",
              "    .colab-df-convert:hover {\n",
              "      background-color: #E2EBFA;\n",
              "      box-shadow: 0px 1px 2px rgba(60, 64, 67, 0.3), 0px 1px 3px 1px rgba(60, 64, 67, 0.15);\n",
              "      fill: #174EA6;\n",
              "    }\n",
              "\n",
              "    [theme=dark] .colab-df-convert {\n",
              "      background-color: #3B4455;\n",
              "      fill: #D2E3FC;\n",
              "    }\n",
              "\n",
              "    [theme=dark] .colab-df-convert:hover {\n",
              "      background-color: #434B5C;\n",
              "      box-shadow: 0px 1px 3px 1px rgba(0, 0, 0, 0.15);\n",
              "      filter: drop-shadow(0px 1px 2px rgba(0, 0, 0, 0.3));\n",
              "      fill: #FFFFFF;\n",
              "    }\n",
              "  </style>\n",
              "\n",
              "      <script>\n",
              "        const buttonEl =\n",
              "          document.querySelector('#df-b88a91ec-fa9a-4a2b-b85c-d60afd1c87fc button.colab-df-convert');\n",
              "        buttonEl.style.display =\n",
              "          google.colab.kernel.accessAllowed ? 'block' : 'none';\n",
              "\n",
              "        async function convertToInteractive(key) {\n",
              "          const element = document.querySelector('#df-b88a91ec-fa9a-4a2b-b85c-d60afd1c87fc');\n",
              "          const dataTable =\n",
              "            await google.colab.kernel.invokeFunction('convertToInteractive',\n",
              "                                                     [key], {});\n",
              "          if (!dataTable) return;\n",
              "\n",
              "          const docLinkHtml = 'Like what you see? Visit the ' +\n",
              "            '<a target=\"_blank\" href=https://colab.research.google.com/notebooks/data_table.ipynb>data table notebook</a>'\n",
              "            + ' to learn more about interactive tables.';\n",
              "          element.innerHTML = '';\n",
              "          dataTable['output_type'] = 'display_data';\n",
              "          await google.colab.output.renderOutput(dataTable, element);\n",
              "          const docLink = document.createElement('div');\n",
              "          docLink.innerHTML = docLinkHtml;\n",
              "          element.appendChild(docLink);\n",
              "        }\n",
              "      </script>\n",
              "    </div>\n",
              "  </div>\n",
              "  "
            ]
          },
          "metadata": {},
          "execution_count": 7
        }
      ]
    },
    {
      "cell_type": "code",
      "source": [
        "# df_train.drop(['a1_predicted_loop_type','a2_predicted_loop_type','a3_predicted_loop_type','a4_predicted_loop_type','a5_predicted_loop_type',\n",
        "#                'b1_predicted_loop_type','b2_predicted_loop_type','b3_predicted_loop_type','b4_predicted_loop_type','b5_predicted_loop_type',\n",
        "#                'a1_sequence','a2_sequence','a3_sequence','a4_sequence','a5_sequence',\n",
        "#                'b1_sequence','b2_sequence','b3_sequence','b4_sequence','b5_sequence',\n",
        "#                'a1_structure','a2_structure','a3_structure','a4_structure','a5_structure',\n",
        "#                'b1_structure','b2_structure','b3_structure','b4_structure','b5_structure'],inplace=True,axis=1)"
      ],
      "metadata": {
        "id": "xlgIgQpjXZUz"
      },
      "execution_count": null,
      "outputs": []
    },
    {
      "cell_type": "code",
      "source": [
        "# df_train.drop(['reactivity','deg_Mg_pH10','deg_Mg_50C','structure_b','sequence_b','predicted_loop_type_b'],inplace=True,axis=1)"
      ],
      "metadata": {
        "id": "LtreQVdWiS-U"
      },
      "execution_count": null,
      "outputs": []
    },
    {
      "cell_type": "code",
      "source": [
        "df_train.drop(['reactivity','deg_Mg_pH10','deg_Mg_50C','id','id_seqpos'],inplace=True,axis=1)"
      ],
      "metadata": {
        "id": "f7_pz4mi_KJV"
      },
      "execution_count": null,
      "outputs": []
    },
    {
      "cell_type": "code",
      "execution_count": null,
      "metadata": {
        "id": "tVuvMZNVoppz"
      },
      "outputs": [],
      "source": [
        "plt.figure(figsize = (17,17))\n",
        "corr=df_train.corr()\n",
        "sns.heatmap(corr, annot=True, fmt=\".3f\")"
      ]
    },
    {
      "cell_type": "markdown",
      "metadata": {
        "id": "4CXbFkVKoi2K"
      },
      "source": [
        "## Numeric"
      ]
    },
    {
      "cell_type": "code",
      "execution_count": null,
      "metadata": {
        "id": "7MezCwKQsE7P"
      },
      "outputs": [],
      "source": [
        "# from sklearn.preprocessing import StandardScaler\n",
        "# sc = StandardScaler()\n",
        "# x_train[num] = sc.fit_transform(x_train[num])\n",
        "\n",
        "# # df_test=sc.transform(df_test)"
      ]
    },
    {
      "cell_type": "code",
      "source": [
        "# x_test[num] = sc.transform(x_test[num])"
      ],
      "metadata": {
        "id": "gMIFw_bT7ed9"
      },
      "execution_count": null,
      "outputs": []
    },
    {
      "cell_type": "code",
      "source": [
        "# Q1 = df_train['Annual_Premium'].quantile(0.25)\n",
        "# Q3 = df_train['Annual_Premium'].quantile(0.75)\n",
        "# IQR = Q3 - Q1\n",
        "# print(df_train[((df_train['Annual_Premium'] < (Q1 - 1.5 * IQR)) |(df_train['Annual_Premium'] > (Q3 + 2 * IQR))) ].shape[0])\n",
        "# df_train=df_train[~ ((df_train['Annual_Premium'] < (Q1 - 1.5 * IQR)) |(df_train['Annual_Premium'] > (Q3 + 2 * IQR))) ]"
      ],
      "metadata": {
        "id": "-xKuFjBmhLgy"
      },
      "execution_count": null,
      "outputs": []
    },
    {
      "cell_type": "code",
      "execution_count": null,
      "metadata": {
        "id": "5XZSmZ9Sh1tT"
      },
      "outputs": [],
      "source": [
        "# from sklearn.preprocessing import MinMaxScaler\n",
        "# mm = MinMaxScaler()\n",
        "# df_train[['Annual_Premium']] = mm.fit_transform(df_train[['Annual_Premium']])"
      ]
    },
    {
      "cell_type": "markdown",
      "metadata": {
        "id": "vHBgYmH4oiwM"
      },
      "source": [
        "# Feature Selection"
      ]
    },
    {
      "cell_type": "code",
      "source": [
        "# from imblearn.under_sampling import NearMiss\n",
        "# undersample = NearMiss(version=1, n_neighbors=3)\n",
        "# df_train, df_y_train = undersample.fit_resample(df_train, df_y_train)"
      ],
      "metadata": {
        "id": "5L2stUQxezRI"
      },
      "execution_count": null,
      "outputs": []
    },
    {
      "cell_type": "code",
      "source": [
        "# df_train=pd.DataFrame(components)"
      ],
      "metadata": {
        "id": "_mJw5RzrQQqJ"
      },
      "execution_count": null,
      "outputs": []
    },
    {
      "cell_type": "markdown",
      "metadata": {
        "id": "vznyicwToio1"
      },
      "source": [
        "\n",
        "\n",
        "```\n",
        "# This is formatted as code\n",
        "```\n",
        "\n",
        "# Modules"
      ]
    },
    {
      "cell_type": "code",
      "source": [
        "df_train=df_train[['reactivity_error',\n",
        "       'deg_error_Mg_pH10', 'deg_pH10', 'deg_error_pH10', 'deg_error_Mg_50C',\n",
        "       'deg_50C', 'deg_error_50C', 'sequence_a_counts', 'sequence_b_counts',\n",
        "       'predicted_loop_type_a_counts', 'predicted_loop_type_b_counts',\n",
        "       'structure_a_counts', 'structure_b_counts']]"
      ],
      "metadata": {
        "id": "IX5STwvoVfFq"
      },
      "execution_count": null,
      "outputs": []
    },
    {
      "cell_type": "code",
      "source": [
        "df_train.drop(['sequence', 'structure', 'predicted_loop_type'],inplace=True,axis=1)"
      ],
      "metadata": {
        "id": "ShR1yibC1dSg"
      },
      "execution_count": null,
      "outputs": []
    },
    {
      "cell_type": "code",
      "source": [
        "x_train, x_test, y_train, y_test = train_test_split(df_train,target, test_size = 0.25, random_state = 42)"
      ],
      "metadata": {
        "id": "J3VoMMuxRptc"
      },
      "execution_count": null,
      "outputs": []
    },
    {
      "cell_type": "markdown",
      "metadata": {
        "id": "LwiUiCHishbJ"
      },
      "source": [
        "## Module"
      ]
    },
    {
      "cell_type": "markdown",
      "metadata": {
        "id": "v8_D4Fc_smoV"
      },
      "source": [
        "### RandomForestRegressor"
      ]
    },
    {
      "cell_type": "code",
      "execution_count": null,
      "metadata": {
        "id": "kEOxDAV3xcxp",
        "colab": {
          "base_uri": "https://localhost:8080/"
        },
        "outputId": "3c7c5965-488e-47ce-fc2a-a0501b25d82f"
      },
      "outputs": [
        {
          "output_type": "execute_result",
          "data": {
            "text/plain": [
              "RandomForestRegressor()"
            ]
          },
          "metadata": {},
          "execution_count": 48
        }
      ],
      "source": [
        "from sklearn.ensemble import RandomForestRegressor\n",
        "from sklearn.metrics import mean_squared_error\n",
        "rm=RandomForestRegressor()\n",
        "rm.fit(x_train,y_train)"
      ]
    },
    {
      "cell_type": "code",
      "source": [
        "scores = cross_val_score(rm,x_train,y_train, cv=10 , scoring='neg_mean_squared_error',)\n",
        "model_rmse = np.sqrt(-scores)\n",
        "print(model_rmse.mean())"
      ],
      "metadata": {
        "id": "7JR2CVNWBkQ4"
      },
      "execution_count": null,
      "outputs": []
    },
    {
      "cell_type": "markdown",
      "metadata": {
        "id": "d2O-_MSM4Nqq"
      },
      "source": [
        "### XGBClassifier"
      ]
    },
    {
      "cell_type": "code",
      "source": [
        "from xgboost import XGBRegressor\n",
        "xgb = XGBRegressor()\n",
        "xgb.fit(x_train, y_train)"
      ],
      "metadata": {
        "colab": {
          "base_uri": "https://localhost:8080/"
        },
        "id": "scfgsNKG-Itl",
        "outputId": "4930a7f2-13a4-4651-a11e-af73f8aa2b08"
      },
      "execution_count": null,
      "outputs": [
        {
          "output_type": "stream",
          "name": "stdout",
          "text": [
            "[14:33:26] WARNING: /workspace/src/objective/regression_obj.cu:152: reg:linear is now deprecated in favor of reg:squarederror.\n"
          ]
        },
        {
          "output_type": "execute_result",
          "data": {
            "text/plain": [
              "XGBRegressor()"
            ]
          },
          "metadata": {},
          "execution_count": 84
        }
      ]
    },
    {
      "cell_type": "code",
      "source": [
        "scores = cross_val_score(xgb,x_train,y_train, cv=10 , scoring='neg_mean_squared_error',)\n",
        "model_rmse = np.sqrt(-scores)\n",
        "print(model_rmse.mean())"
      ],
      "metadata": {
        "colab": {
          "base_uri": "https://localhost:8080/"
        },
        "id": "kwx5TBF1MDLW",
        "outputId": "f1984d64-e4f3-4c04-abe7-5f4bf0984f9d"
      },
      "execution_count": null,
      "outputs": [
        {
          "output_type": "stream",
          "name": "stdout",
          "text": [
            "[14:33:31] WARNING: /workspace/src/objective/regression_obj.cu:152: reg:linear is now deprecated in favor of reg:squarederror.\n",
            "[14:33:36] WARNING: /workspace/src/objective/regression_obj.cu:152: reg:linear is now deprecated in favor of reg:squarederror.\n",
            "[14:33:41] WARNING: /workspace/src/objective/regression_obj.cu:152: reg:linear is now deprecated in favor of reg:squarederror.\n",
            "[14:33:45] WARNING: /workspace/src/objective/regression_obj.cu:152: reg:linear is now deprecated in favor of reg:squarederror.\n",
            "[14:33:49] WARNING: /workspace/src/objective/regression_obj.cu:152: reg:linear is now deprecated in favor of reg:squarederror.\n",
            "[14:33:54] WARNING: /workspace/src/objective/regression_obj.cu:152: reg:linear is now deprecated in favor of reg:squarederror.\n",
            "[14:33:58] WARNING: /workspace/src/objective/regression_obj.cu:152: reg:linear is now deprecated in favor of reg:squarederror.\n",
            "[14:34:02] WARNING: /workspace/src/objective/regression_obj.cu:152: reg:linear is now deprecated in favor of reg:squarederror.\n",
            "[14:34:07] WARNING: /workspace/src/objective/regression_obj.cu:152: reg:linear is now deprecated in favor of reg:squarederror.\n",
            "[14:34:12] WARNING: /workspace/src/objective/regression_obj.cu:152: reg:linear is now deprecated in favor of reg:squarederror.\n",
            "0.5530028707395873\n"
          ]
        }
      ]
    },
    {
      "cell_type": "code",
      "source": [
        "scores = cross_val_score(xgb,x_test,y_test, cv=10 , scoring='neg_mean_squared_error',)\n",
        "model_rmse = np.sqrt(-scores)\n",
        "print(model_rmse.mean())"
      ],
      "metadata": {
        "colab": {
          "base_uri": "https://localhost:8080/"
        },
        "id": "ZuUOm_lGEM_q",
        "outputId": "4e8c48d6-7843-4f6b-c55e-4447bf3f6fb5"
      },
      "execution_count": null,
      "outputs": [
        {
          "output_type": "stream",
          "name": "stdout",
          "text": [
            "[14:34:17] WARNING: /workspace/src/objective/regression_obj.cu:152: reg:linear is now deprecated in favor of reg:squarederror.\n",
            "[14:34:19] WARNING: /workspace/src/objective/regression_obj.cu:152: reg:linear is now deprecated in favor of reg:squarederror.\n",
            "[14:34:20] WARNING: /workspace/src/objective/regression_obj.cu:152: reg:linear is now deprecated in favor of reg:squarederror.\n",
            "[14:34:22] WARNING: /workspace/src/objective/regression_obj.cu:152: reg:linear is now deprecated in favor of reg:squarederror.\n",
            "[14:34:23] WARNING: /workspace/src/objective/regression_obj.cu:152: reg:linear is now deprecated in favor of reg:squarederror.\n",
            "[14:34:25] WARNING: /workspace/src/objective/regression_obj.cu:152: reg:linear is now deprecated in favor of reg:squarederror.\n",
            "[14:34:26] WARNING: /workspace/src/objective/regression_obj.cu:152: reg:linear is now deprecated in favor of reg:squarederror.\n",
            "[14:34:28] WARNING: /workspace/src/objective/regression_obj.cu:152: reg:linear is now deprecated in favor of reg:squarederror.\n",
            "[14:34:29] WARNING: /workspace/src/objective/regression_obj.cu:152: reg:linear is now deprecated in favor of reg:squarederror.\n",
            "[14:34:31] WARNING: /workspace/src/objective/regression_obj.cu:152: reg:linear is now deprecated in favor of reg:squarederror.\n",
            "0.5785207960314003\n"
          ]
        }
      ]
    },
    {
      "cell_type": "markdown",
      "metadata": {
        "id": "WD5g61Py4Y5Z"
      },
      "source": [
        "### LGBMClassifier"
      ]
    },
    {
      "cell_type": "code",
      "source": [
        "from lightgbm import LGBMRegressor\n",
        "lgb = LGBMRegressor()\n",
        "# lgb.fit(x_train, y_train)"
      ],
      "metadata": {
        "id": "68ppg7bE_AFm"
      },
      "execution_count": null,
      "outputs": []
    },
    {
      "cell_type": "code",
      "source": [
        "scores = cross_val_score(lgb,x_train,y_train, cv=10 , scoring='neg_mean_squared_error',)\n",
        "model_rmse = np.sqrt(-scores)\n",
        "print(model_rmse.mean())"
      ],
      "metadata": {
        "colab": {
          "base_uri": "https://localhost:8080/"
        },
        "id": "iCxq5hWBALMX",
        "outputId": "e4a1886e-dc70-4e7d-d338-dd1fa4907c02"
      },
      "execution_count": null,
      "outputs": [
        {
          "output_type": "stream",
          "name": "stdout",
          "text": [
            "0.4855159175823537\n"
          ]
        }
      ]
    },
    {
      "cell_type": "code",
      "source": [
        "scores = cross_val_score(lgb,x_test,y_test, cv=10 , scoring='neg_mean_squared_error',)\n",
        "model_rmse = np.sqrt(-scores)\n",
        "print(model_rmse.mean())"
      ],
      "metadata": {
        "colab": {
          "base_uri": "https://localhost:8080/"
        },
        "id": "eynggT1PEEt7",
        "outputId": "6689f090-d778-4634-9f9e-386a05e0061a"
      },
      "execution_count": null,
      "outputs": [
        {
          "output_type": "stream",
          "name": "stdout",
          "text": [
            "0.5077195388617186\n"
          ]
        }
      ]
    },
    {
      "cell_type": "markdown",
      "source": [
        "### GradientBoostingRegressor"
      ],
      "metadata": {
        "id": "o8IGC-cKFaX_"
      }
    },
    {
      "cell_type": "code",
      "source": [
        "from sklearn.ensemble import GradientBoostingRegressor\n",
        "gbr = GradientBoostingRegressor(n_estimators=800,learning_rate=0.341,subsample=.9)\n",
        "gbr.fit(x_train, y_train)"
      ],
      "metadata": {
        "id": "6xyN-4MTFlHI",
        "colab": {
          "base_uri": "https://localhost:8080/"
        },
        "outputId": "889fdd6e-e903-495b-abc6-be3aacbf69dc"
      },
      "execution_count": null,
      "outputs": [
        {
          "output_type": "execute_result",
          "data": {
            "text/plain": [
              "GradientBoostingRegressor(learning_rate=0.341, n_estimators=800, subsample=0.9)"
            ]
          },
          "metadata": {},
          "execution_count": 16
        }
      ]
    },
    {
      "cell_type": "code",
      "source": [
        "y_pred=gbr.predict(x_test)"
      ],
      "metadata": {
        "id": "BlOm0o666iZn"
      },
      "execution_count": null,
      "outputs": []
    },
    {
      "cell_type": "code",
      "source": [
        "rmse=np.sqrt(mean_squared_error(y_pred,y_test))\n",
        "rmse"
      ],
      "metadata": {
        "colab": {
          "base_uri": "https://localhost:8080/"
        },
        "id": "6NJzIa4S6Qsu",
        "outputId": "c7dc1724-637b-4309-f4db-dbd6cc124fef"
      },
      "execution_count": null,
      "outputs": [
        {
          "output_type": "execute_result",
          "data": {
            "text/plain": [
              "0.37279152343370714"
            ]
          },
          "metadata": {},
          "execution_count": 18
        }
      ]
    },
    {
      "cell_type": "code",
      "source": [
        "scores = cross_val_score(gbr,x_test,y_test, cv=5 , scoring='neg_mean_squared_error',)\n",
        "model_rmse = np.sqrt(-scores)\n",
        "print(model_rmse.mean())"
      ],
      "metadata": {
        "id": "GmBwSMeVFq6R",
        "colab": {
          "base_uri": "https://localhost:8080/"
        },
        "outputId": "73becd0a-cb51-4169-9460-4644c282a856"
      },
      "execution_count": null,
      "outputs": [
        {
          "output_type": "stream",
          "name": "stdout",
          "text": [
            "0.4941575942123671\n"
          ]
        }
      ]
    },
    {
      "cell_type": "code",
      "source": [
        "parameters = {'learning_rate': [0.35,0.34],\n",
        "              'subsample'    : [0.9,.8, 1],\n",
        "              'n_estimator': [700,800,900]\n",
        "\n",
        "                 }\n",
        "from sklearn.model_selection import GridSearchCV\n",
        "\n",
        "grid_GBR = GridSearchCV(estimator=gbr, param_grid = parameters, cv = 5, n_jobs=-1)\n",
        "grid_GBR.fit(x_train, y_train)"
      ],
      "metadata": {
        "colab": {
          "base_uri": "https://localhost:8080/"
        },
        "id": "fuwwmKqrG3N1",
        "outputId": "7cbd2471-9807-464a-8c5f-e80d1b5ed128"
      },
      "execution_count": null,
      "outputs": [
        {
          "output_type": "execute_result",
          "data": {
            "text/plain": [
              "GridSearchCV(cv=5, estimator=GradientBoostingRegressor(), n_jobs=-1,\n",
              "             param_grid={'learning_rate': [0.28, 0.3, 0.32],\n",
              "                         'subsample': [0.9, 0.8, 1]})"
            ]
          },
          "metadata": {},
          "execution_count": 30
        }
      ]
    },
    {
      "cell_type": "code",
      "source": [
        "grid_GBR.best_params_"
      ],
      "metadata": {
        "colab": {
          "base_uri": "https://localhost:8080/"
        },
        "id": "adW3Ru9AXb-2",
        "outputId": "e061ff45-e503-4e11-9ace-70d9e56501b7"
      },
      "execution_count": null,
      "outputs": [
        {
          "output_type": "execute_result",
          "data": {
            "text/plain": [
              "{'learning_rate': 0.28, 'subsample': 0.9}"
            ]
          },
          "metadata": {},
          "execution_count": 31
        }
      ]
    },
    {
      "cell_type": "code",
      "source": [
        "grid_GBR.best_score_"
      ],
      "metadata": {
        "colab": {
          "base_uri": "https://localhost:8080/"
        },
        "id": "rOOyvfgrZ37S",
        "outputId": "3b47e6a6-f4ea-4512-c449-1ec9707cec61"
      },
      "execution_count": null,
      "outputs": [
        {
          "output_type": "execute_result",
          "data": {
            "text/plain": [
              "0.6221511982585719"
            ]
          },
          "metadata": {},
          "execution_count": 29
        }
      ]
    },
    {
      "cell_type": "markdown",
      "source": [
        "### MultiOutputRegressor"
      ],
      "metadata": {
        "id": "Y-tLzKA-d43O"
      }
    },
    {
      "cell_type": "code",
      "source": [
        "from sklearn.multioutput import MultiOutputRegressor\n",
        "gbr=MultiOutputRegressor(GradientBoostingRegressor(n_estimators=800,learning_rate=0.431,subsample=.9)).fit(x_train, y_train)"
      ],
      "metadata": {
        "id": "mQmYlmIOYgKg"
      },
      "execution_count": null,
      "outputs": []
    },
    {
      "cell_type": "code",
      "source": [
        "y_pred=gbr.predict(x_test)"
      ],
      "metadata": {
        "id": "MRHfOMPe-NnQ"
      },
      "execution_count": null,
      "outputs": []
    },
    {
      "cell_type": "code",
      "source": [
        "rmse=np.sqrt(mean_squared_error(y_pred,y_test))\n",
        "rmse"
      ],
      "metadata": {
        "colab": {
          "base_uri": "https://localhost:8080/"
        },
        "id": "7706bdyR-Qch",
        "outputId": "8abac0fc-1f38-43bc-8bee-1defe81d155a"
      },
      "execution_count": null,
      "outputs": [
        {
          "output_type": "execute_result",
          "data": {
            "text/plain": [
              "0.38567517037375854"
            ]
          },
          "metadata": {},
          "execution_count": 22
        }
      ]
    },
    {
      "cell_type": "code",
      "source": [
        "# scores = cross_val_score(gbr,x_train,y_train, cv=10 , scoring='neg_mean_squared_error',)\n",
        "# model_rmse = np.sqrt(-scores)\n",
        "# print(model_rmse.mean())"
      ],
      "metadata": {
        "colab": {
          "base_uri": "https://localhost:8080/"
        },
        "id": "JxWoWbv5d-Fc",
        "outputId": "97371e93-78d2-417e-9ec9-9e9410e4cc22"
      },
      "execution_count": null,
      "outputs": [
        {
          "output_type": "stream",
          "name": "stdout",
          "text": [
            "0.43981016741219914\n"
          ]
        }
      ]
    },
    {
      "cell_type": "code",
      "source": [
        "scores = cross_val_score(gbr,x_test,y_test, cv=10 , scoring='neg_mean_squared_error',)\n",
        "model_rmse = np.sqrt(-scores)\n",
        "print(model_rmse.mean())"
      ],
      "metadata": {
        "colab": {
          "base_uri": "https://localhost:8080/"
        },
        "id": "q9CIRJqad_0X",
        "outputId": "1612d8ee-23fc-47e6-d662-b8ec0b508d21"
      },
      "execution_count": null,
      "outputs": [
        {
          "output_type": "stream",
          "name": "stdout",
          "text": [
            "0.4593523595056797\n"
          ]
        }
      ]
    },
    {
      "cell_type": "markdown",
      "source": [
        "### RegressorChain"
      ],
      "metadata": {
        "id": "9pcCP-Wcwc_b"
      }
    },
    {
      "cell_type": "code",
      "source": [
        "from sklearn.multioutput import RegressorChain\n",
        "cr= RegressorChain(gbr).fit(x_train,y_train)\n",
        "# , order=[1,0,2]"
      ],
      "metadata": {
        "id": "TU_a6rcbwd8v"
      },
      "execution_count": null,
      "outputs": []
    },
    {
      "cell_type": "code",
      "source": [
        "print(cr.score(x_test,y_test))"
      ],
      "metadata": {
        "id": "uda-2VskyTNO"
      },
      "execution_count": null,
      "outputs": []
    },
    {
      "cell_type": "code",
      "source": [
        "scores = cross_val_score(cr,x_train,y_train, cv=10 , scoring='neg_mean_squared_error',)\n",
        "model_rmse = np.sqrt(-scores)\n",
        "print(model_rmse.mean())"
      ],
      "metadata": {
        "id": "9dmbecslkqlf"
      },
      "execution_count": null,
      "outputs": []
    },
    {
      "cell_type": "code",
      "source": [
        "scores = cross_val_score(cr,x_test,y_test, cv=10 , scoring='neg_mean_squared_error',)\n",
        "model_rmse = np.sqrt(-scores)\n",
        "print(model_rmse.mean())"
      ],
      "metadata": {
        "id": "iVxrKPqTxABi"
      },
      "execution_count": null,
      "outputs": []
    },
    {
      "cell_type": "markdown",
      "metadata": {
        "id": "xxxdsk3dspAz"
      },
      "source": [
        "### Fine Tune"
      ]
    },
    {
      "cell_type": "code",
      "execution_count": null,
      "metadata": {
        "id": "OcXXk_wV9k_N"
      },
      "outputs": [],
      "source": [
        "# parameters = {'depth'         : [10],\n",
        "#               'learning_rate' : [0.1],\n",
        "#               'iterations'    : [ 100,80,120],\n",
        "#                  }"
      ]
    },
    {
      "cell_type": "code",
      "execution_count": null,
      "metadata": {
        "colab": {
          "base_uri": "https://localhost:8080/"
        },
        "id": "rf1naKAN9l-r",
        "outputId": "88dc0ed3-7824-4123-ba89-95b90c1e0336"
      },
      "outputs": [
        {
          "output_type": "execute_result",
          "data": {
            "text/plain": [
              "GridSearchCV(cv=2, estimator=XGBClassifier(), n_jobs=-1,\n",
              "             param_grid={'depth': [10], 'iterations': [100, 80, 120],\n",
              "                         'learning_rate': [0.1]})"
            ]
          },
          "metadata": {},
          "execution_count": 508
        }
      ],
      "source": [
        "# Grid_CBC = GridSearchCV(xgc, param_grid = parameters, cv = 2, n_jobs=-1)\n",
        "# Grid_CBC.fit(df_train, df_y_train)"
      ]
    },
    {
      "cell_type": "code",
      "execution_count": null,
      "metadata": {
        "colab": {
          "base_uri": "https://localhost:8080/"
        },
        "id": "QSZ437vYA4DM",
        "outputId": "b7ed3c62-8c58-4f96-ab12-22303814a3a1"
      },
      "outputs": [
        {
          "output_type": "stream",
          "name": "stdout",
          "text": [
            " Results from Grid Search \n",
            "\n",
            " The best estimator across ALL searched params:\n",
            " XGBClassifier(depth=10, iterations=100)\n",
            "\n",
            " The best score across ALL searched params:\n",
            " 0.8485597768186751\n",
            "\n",
            " The best parameters across ALL searched params:\n",
            " {'depth': 10, 'iterations': 100, 'learning_rate': 0.1}\n"
          ]
        }
      ],
      "source": [
        "# print(\" Results from Grid Search \" )\n",
        "# print(\"\\n The best estimator across ALL searched params:\\n\",Grid_CBC.best_estimator_)\n",
        "# print(\"\\n The best score across ALL searched params:\\n\",Grid_CBC.best_score_)\n",
        "# print(\"\\n The best parameters across ALL searched params:\\n\",Grid_CBC.best_params_)"
      ]
    },
    {
      "cell_type": "code",
      "execution_count": null,
      "metadata": {
        "id": "WV3QXhHgEOM3"
      },
      "outputs": [],
      "source": [
        "# depth=10,iterations=100, learning_rate= 0.08"
      ]
    },
    {
      "cell_type": "code",
      "execution_count": null,
      "metadata": {
        "id": "zH03aTHmBLWx"
      },
      "outputs": [],
      "source": [
        "# best_module=Grid_CBC.best_estimator_"
      ]
    },
    {
      "cell_type": "code",
      "execution_count": null,
      "metadata": {
        "id": "i_H1l1-ZBeI9"
      },
      "outputs": [],
      "source": [
        "# best_module.fit(x_train, y_train)\n",
        "# pred=best_module.predict(x_test)"
      ]
    },
    {
      "cell_type": "code",
      "execution_count": null,
      "metadata": {
        "id": "sMQKj9gCBsdR"
      },
      "outputs": [],
      "source": [
        "# conf_matrix = confusion_matrix(y_true=y_test, y_pred=pred)\n",
        "\n",
        "# fig, ax = plt.subplots(figsize=(5, 5))\n",
        "# ax.matshow(conf_matrix, cmap=plt.cm.Oranges, alpha=0.3)\n",
        "# for i in range(conf_matrix.shape[0]):\n",
        "#     for j in range(conf_matrix.shape[1]):\n",
        "#         ax.text(x=j, y=i,s=conf_matrix[i, j], va='center', ha='center', size='xx-large')\n",
        "\n",
        "# plt.xlabel('Predictions', fontsize=18)\n",
        "# plt.ylabel('Actuals', fontsize=18)\n",
        "# plt.title('Confusion Matrix', fontsize=18)\n",
        "# plt.show()\n",
        "# print(recall_score(y_test, pred))\n",
        "# print(precision_score(y_test, pred))\n",
        "# print(f1_score(y_test, pred))"
      ]
    },
    {
      "cell_type": "code",
      "execution_count": null,
      "metadata": {
        "id": "BGcv3iihBzkU"
      },
      "outputs": [],
      "source": [
        "# pred=best_module.predict(x_train)\n",
        "# conf_matrix = confusion_matrix(y_true=y_train, y_pred=pred)\n",
        "\n",
        "# fig, ax = plt.subplots(figsize=(5, 5))\n",
        "# ax.matshow(conf_matrix, cmap=plt.cm.Oranges, alpha=0.3)\n",
        "# for i in range(conf_matrix.shape[0]):\n",
        "#     for j in range(conf_matrix.shape[1]):\n",
        "#         ax.text(x=j, y=i,s=conf_matrix[i, j], va='center', ha='center', size='xx-large')\n",
        "\n",
        "# plt.xlabel('Predictions', fontsize=18)\n",
        "# plt.ylabel('Actuals', fontsize=18)\n",
        "# plt.title('Confusion Matrix', fontsize=18)\n",
        "# plt.show()\n",
        "# print(recall_score(y_train, pred))\n",
        "# print(precision_score(y_train, pred))\n",
        "# print(f1_score(y_train, pred))"
      ]
    },
    {
      "cell_type": "markdown",
      "metadata": {
        "id": "wyfzsQwUel9E"
      },
      "source": [
        "# secret"
      ]
    },
    {
      "cell_type": "code",
      "execution_count": null,
      "metadata": {
        "id": "yvTQ88bSl7Tl"
      },
      "outputs": [],
      "source": [
        "df_test=pd.read_csv('test.csv')"
      ]
    },
    {
      "cell_type": "code",
      "source": [
        "df_test"
      ],
      "metadata": {
        "id": "jYyAEEQQK--k"
      },
      "execution_count": null,
      "outputs": []
    },
    {
      "cell_type": "code",
      "source": [
        "num_feat_test=df_test.select_dtypes(exclude=['object'])\n",
        "cat_feat_test=df_test.select_dtypes(include=['object'])"
      ],
      "metadata": {
        "id": "TSatnsKOKb1T"
      },
      "execution_count": null,
      "outputs": []
    },
    {
      "cell_type": "code",
      "execution_count": null,
      "metadata": {
        "id": "G9z_zTrEfy1J"
      },
      "outputs": [],
      "source": [
        "cat_feat_test[OE] = cat_feat_test[OE].replace(dic)"
      ]
    },
    {
      "cell_type": "code",
      "source": [
        "df_test[OE] = df_test[OE].replace(dic)"
      ],
      "metadata": {
        "id": "BfWFc9LmMCtH"
      },
      "execution_count": null,
      "outputs": []
    },
    {
      "cell_type": "code",
      "source": [
        "df_test['predicted_loop_type_a']=df_test['a1_predicted_loop_type']\n",
        "df_test['predicted_loop_type_b']=df_test['a1_predicted_loop_type']\n",
        "df_test['sequence_a']=df_test['a1_predicted_loop_type']\n",
        "df_test['sequence_b']=df_test['a1_predicted_loop_type']\n",
        "df_test['structure_a']=df_test['a1_predicted_loop_type']\n",
        "df_test['structure_b']=df_test['a1_predicted_loop_type']"
      ],
      "metadata": {
        "id": "-mMgOX2YTzuI"
      },
      "execution_count": null,
      "outputs": []
    },
    {
      "cell_type": "code",
      "source": [
        "for i in range(len(df_test)):\n",
        "\n",
        "  df_test['predicted_loop_type_a'][i]=f\"{df_test['a1_predicted_loop_type'][i]}{df_test['a2_predicted_loop_type'][i]}{df_test['a3_predicted_loop_type'][i]}{df_test['a4_predicted_loop_type'][i]}{df_test['a5_predicted_loop_type'][i]}\"\n",
        "  df_test['predicted_loop_type_b'][i]=f\"{df_test['b1_predicted_loop_type'][i]}{df_test['b2_predicted_loop_type'][i]}{df_test['b3_predicted_loop_type'][i]}{df_test['b4_predicted_loop_type'][i]}{df_test['b5_predicted_loop_type'][i]}\"\n",
        "  df_test['sequence_a'][i]=f\"{df_test['a1_sequence'][i]}{df_test['a2_sequence'][i]}{df_test['a3_sequence'][i]}{df_test['a4_sequence'][i]}{df_test['a5_sequence'][i]}\"\n",
        "  df_test['sequence_b'][i]=f\"{df_test['b1_sequence'][i]}{df_test['b2_sequence'][i]}{df_test['b3_sequence'][i]}{df_test['b4_sequence'][i]}{df_test['b5_sequence'][i]}\"\n",
        "  df_test['structure_a'][i]=f\"{df_test['a1_structure'][i]}{df_test['a2_structure'][i]}{df_test['a3_structure'][i]}{df_test['a4_structure'][i]}{df_test['a5_structure'][i]}\"\n",
        "  df_test['structure_b'][i]=f\"{df_test['b1_structure'][i]}{df_test['b2_structure'][i]}{df_test['b3_structure'][i]}{df_test['b4_structure'][i]}{df_test['b5_structure'][i]}\"\n"
      ],
      "metadata": {
        "id": "aGwvu4iDT40D"
      },
      "execution_count": null,
      "outputs": []
    },
    {
      "cell_type": "code",
      "source": [
        "df_test.drop(['a1_predicted_loop_type','a2_predicted_loop_type','a3_predicted_loop_type','a4_predicted_loop_type','a5_predicted_loop_type',\n",
        "               'b1_predicted_loop_type','b2_predicted_loop_type','b3_predicted_loop_type','b4_predicted_loop_type','b5_predicted_loop_type',\n",
        "               'a1_sequence','a2_sequence','a3_sequence','a4_sequence','a5_sequence',\n",
        "               'b1_sequence','b2_sequence','b3_sequence','b4_sequence','b5_sequence',\n",
        "               'a1_structure','a2_structure','a3_structure','a4_structure','a5_structure',\n",
        "               'b1_structure','b2_structure','b3_structure','b4_structure','b5_structure'],inplace=True,axis=1)"
      ],
      "metadata": {
        "id": "AZBpeqcjUDYG"
      },
      "execution_count": null,
      "outputs": []
    },
    {
      "cell_type": "code",
      "source": [
        "sequence_b_counts=[]\n",
        "for i in df_test['sequence_b'] :\n",
        "  sequence_b_counts.append(len(i))\n",
        "sequence_a_counts=[]\n",
        "for i in df_test['sequence_a'] :\n",
        "  sequence_a_counts.append(len(i))\n",
        "\n",
        "predicted_loop_type_a_counts=[]\n",
        "for i in df_test['predicted_loop_type_a'] :\n",
        "  predicted_loop_type_a_counts.append(len(i))\n",
        "predicted_loop_type_b_counts=[]\n",
        "for i in df_test['predicted_loop_type_b'] :\n",
        "  predicted_loop_type_b_counts.append(len(i))\n",
        "\n",
        "\n",
        "structure_a_counts=[]\n",
        "for i in df_test['structure_a'] :\n",
        "  structure_a_counts.append(len(i))\n",
        "structure_b_counts=[]\n",
        "for i in df_test['structure_b'] :\n",
        "  structure_b_counts.append(len(i))"
      ],
      "metadata": {
        "id": "dkUiATRpUOKz"
      },
      "execution_count": null,
      "outputs": []
    },
    {
      "cell_type": "code",
      "source": [
        "df_test['sequence_a_counts']=sequence_a_counts\n",
        "df_test['sequence_b_counts']=sequence_b_counts\n",
        "df_test['predicted_loop_type_a_counts']=predicted_loop_type_a_counts\n",
        "df_test['predicted_loop_type_b_counts']=predicted_loop_type_b_counts\n",
        "df_test['structure_a_counts']=structure_a_counts\n",
        "df_test['structure_b_counts']=structure_b_counts"
      ],
      "metadata": {
        "id": "SlVTqGLgUQbd"
      },
      "execution_count": null,
      "outputs": []
    },
    {
      "cell_type": "code",
      "source": [
        "df_test.drop(['predicted_loop_type_a',\t'predicted_loop_type_b'\t,'sequence_a',\t'sequence_b',\t'structure_a'\t,'structure_b'],inplace=True,axis=1)"
      ],
      "metadata": {
        "id": "lFDkU_7CUhFG"
      },
      "execution_count": null,
      "outputs": []
    },
    {
      "cell_type": "code",
      "source": [
        "df_test.drop(['sequence','structure','predicted_loop_type'],inplace=True,axis=1)"
      ],
      "metadata": {
        "id": "yRvctB1oBjHh"
      },
      "execution_count": null,
      "outputs": []
    },
    {
      "cell_type": "code",
      "source": [
        "df_test['sequence']=df_test['sequence'].astype('int')\n",
        "df_test['structure']=df_test['structure'].astype('int')\n",
        "df_test['predicted_loop_type']=df_test['predicted_loop_type'].astype('int')"
      ],
      "metadata": {
        "id": "MS86BwfJUmUQ"
      },
      "execution_count": null,
      "outputs": []
    },
    {
      "cell_type": "code",
      "execution_count": null,
      "metadata": {
        "id": "pPa522n0f100"
      },
      "outputs": [],
      "source": [
        "id=df_test['id_seqpos']"
      ]
    },
    {
      "cell_type": "markdown",
      "metadata": {
        "id": "B8thXhAgwn2X"
      },
      "source": [
        "## moudle"
      ]
    },
    {
      "cell_type": "code",
      "source": [
        "df_test.drop(['id','id_seqpos'],inplace=True,axis=1)"
      ],
      "metadata": {
        "id": "1ObSP3DVkPEZ"
      },
      "execution_count": null,
      "outputs": []
    },
    {
      "cell_type": "code",
      "source": [
        "# dic = {'A':0, 'G': 1, 'U': 2, 'C': 3}\n",
        "# df_test['sequence'] = df_test['sequence'].replace(dic)\n",
        "\n",
        "\n",
        "# df_test.drop(['a1_predicted_loop_type','a2_predicted_loop_type','a3_predicted_loop_type','a4_predicted_loop_type','a5_predicted_loop_type',\n",
        "#                'b1_predicted_loop_type','b2_predicted_loop_type','b3_predicted_loop_type','b4_predicted_loop_type','b5_predicted_loop_type',\n",
        "#                'a1_sequence','a2_sequence','a3_sequence','a4_sequence','a5_sequence',\n",
        "#                'b1_sequence','b2_sequence','b3_sequence','b4_sequence','b5_sequence',\n",
        "#                'a1_structure','a2_structure','a3_structure','a4_structure','a5_structure',\n",
        "#                'b1_structure','b2_structure','b3_structure','b4_structure','b5_structure'],inplace=True,axis=1)\n",
        "\n",
        "# structure=pd.DataFrame(ohe.fit_transform(df_test[['structure']]).toarray())\n",
        "# structure.columns=df_test['structure'].unique()\n",
        "# predicted_loop_type=pd.DataFrame(ohe.fit_transform(df_test[['predicted_loop_type']]).toarray())\n",
        "# predicted_loop_type.columns=df_test['predicted_loop_type'].unique()\n",
        "\n",
        "# df_test.drop(['structure','predicted_loop_type'],inplace=True,axis=1)\n",
        "\n",
        "# df_test = df_test.join(structure)\n",
        "# df_test = df_test.join(predicted_loop_type)\n",
        "# df_test"
      ],
      "metadata": {
        "id": "uOVuuvamumvm"
      },
      "execution_count": null,
      "outputs": []
    },
    {
      "cell_type": "code",
      "source": [
        "# reactivity=gbr1.predict(df_test)"
      ],
      "metadata": {
        "id": "XXyI9jKpMeWy",
        "colab": {
          "base_uri": "https://localhost:8080/"
        },
        "outputId": "ab1df879-f611-4237-e3ea-efed3afe98fd"
      },
      "execution_count": null,
      "outputs": [
        {
          "output_type": "stream",
          "name": "stderr",
          "text": [
            "/usr/local/lib/python3.8/dist-packages/sklearn/base.py:493: FutureWarning: The feature names should match those that were passed during fit. Starting version 1.2, an error will be raised.\n",
            "Feature names must be in the same order as they were in fit.\n",
            "\n",
            "  warnings.warn(message, FutureWarning)\n"
          ]
        }
      ]
    },
    {
      "cell_type": "code",
      "source": [
        "# deg_Mg_50C=gbr2.predict(df_test)"
      ],
      "metadata": {
        "id": "FTqudABvNAtG",
        "colab": {
          "base_uri": "https://localhost:8080/"
        },
        "outputId": "c31bb9f8-36b0-4302-fd91-9772ff017615"
      },
      "execution_count": null,
      "outputs": [
        {
          "output_type": "stream",
          "name": "stderr",
          "text": [
            "/usr/local/lib/python3.8/dist-packages/sklearn/base.py:493: FutureWarning: The feature names should match those that were passed during fit. Starting version 1.2, an error will be raised.\n",
            "Feature names must be in the same order as they were in fit.\n",
            "\n",
            "  warnings.warn(message, FutureWarning)\n"
          ]
        }
      ]
    },
    {
      "cell_type": "code",
      "source": [
        "# deg_Mg_pH10=gbr3.predict(df_test)"
      ],
      "metadata": {
        "colab": {
          "base_uri": "https://localhost:8080/"
        },
        "id": "_DQ1XO1-k229",
        "outputId": "31810609-3adc-48c0-e961-83c9e7aae396"
      },
      "execution_count": null,
      "outputs": [
        {
          "output_type": "stream",
          "name": "stderr",
          "text": [
            "/usr/local/lib/python3.8/dist-packages/sklearn/base.py:493: FutureWarning: The feature names should match those that were passed during fit. Starting version 1.2, an error will be raised.\n",
            "Feature names must be in the same order as they were in fit.\n",
            "\n",
            "  warnings.warn(message, FutureWarning)\n"
          ]
        }
      ]
    },
    {
      "cell_type": "code",
      "source": [
        "df_test=df_test[['reactivity_error',\n",
        "       'deg_error_Mg_pH10', 'deg_pH10', 'deg_error_pH10', 'deg_error_Mg_50C',\n",
        "       'deg_50C', 'deg_error_50C', 'sequence_a_counts', 'sequence_b_counts',\n",
        "       'predicted_loop_type_a_counts', 'predicted_loop_type_b_counts',\n",
        "       'structure_a_counts', 'structure_b_counts']]"
      ],
      "metadata": {
        "id": "9QnnX6d-V0Sr"
      },
      "execution_count": null,
      "outputs": []
    },
    {
      "cell_type": "code",
      "source": [
        "vv=gbr.predict(df_test)\n",
        "vv=pd.DataFrame(vv)\n",
        "vv.columns=['reactivity','deg_Mg_pH10','deg_Mg_50C']"
      ],
      "metadata": {
        "id": "XanPafKuZiA_"
      },
      "execution_count": null,
      "outputs": []
    },
    {
      "cell_type": "code",
      "source": [
        "vv"
      ],
      "metadata": {
        "colab": {
          "base_uri": "https://localhost:8080/",
          "height": 423
        },
        "id": "gHbk4foVaiOf",
        "outputId": "f8e2ea6e-7ef9-4fd3-d84e-7efe50816f7f"
      },
      "execution_count": null,
      "outputs": [
        {
          "output_type": "execute_result",
          "data": {
            "text/plain": [
              "       reactivity  deg_Mg_pH10  deg_Mg_50C\n",
              "0        0.620607     0.717056    0.554790\n",
              "1        0.659859     0.481664    0.669600\n",
              "2        0.271858     0.173302    0.175070\n",
              "3        0.387110     0.844707    0.999777\n",
              "4        1.242958     1.277922    1.027740\n",
              "...           ...          ...         ...\n",
              "32635   -0.013212     0.081762    0.042150\n",
              "32636    0.010926     0.152635    0.104391\n",
              "32637    0.448807     0.561134    0.438084\n",
              "32638    0.049607     0.204644    0.210528\n",
              "32639    0.009079     0.246268    0.233144\n",
              "\n",
              "[32640 rows x 3 columns]"
            ],
            "text/html": [
              "\n",
              "  <div id=\"df-44e084be-e7a0-4a58-a5a2-93f36aa83f84\">\n",
              "    <div class=\"colab-df-container\">\n",
              "      <div>\n",
              "<style scoped>\n",
              "    .dataframe tbody tr th:only-of-type {\n",
              "        vertical-align: middle;\n",
              "    }\n",
              "\n",
              "    .dataframe tbody tr th {\n",
              "        vertical-align: top;\n",
              "    }\n",
              "\n",
              "    .dataframe thead th {\n",
              "        text-align: right;\n",
              "    }\n",
              "</style>\n",
              "<table border=\"1\" class=\"dataframe\">\n",
              "  <thead>\n",
              "    <tr style=\"text-align: right;\">\n",
              "      <th></th>\n",
              "      <th>reactivity</th>\n",
              "      <th>deg_Mg_pH10</th>\n",
              "      <th>deg_Mg_50C</th>\n",
              "    </tr>\n",
              "  </thead>\n",
              "  <tbody>\n",
              "    <tr>\n",
              "      <th>0</th>\n",
              "      <td>0.620607</td>\n",
              "      <td>0.717056</td>\n",
              "      <td>0.554790</td>\n",
              "    </tr>\n",
              "    <tr>\n",
              "      <th>1</th>\n",
              "      <td>0.659859</td>\n",
              "      <td>0.481664</td>\n",
              "      <td>0.669600</td>\n",
              "    </tr>\n",
              "    <tr>\n",
              "      <th>2</th>\n",
              "      <td>0.271858</td>\n",
              "      <td>0.173302</td>\n",
              "      <td>0.175070</td>\n",
              "    </tr>\n",
              "    <tr>\n",
              "      <th>3</th>\n",
              "      <td>0.387110</td>\n",
              "      <td>0.844707</td>\n",
              "      <td>0.999777</td>\n",
              "    </tr>\n",
              "    <tr>\n",
              "      <th>4</th>\n",
              "      <td>1.242958</td>\n",
              "      <td>1.277922</td>\n",
              "      <td>1.027740</td>\n",
              "    </tr>\n",
              "    <tr>\n",
              "      <th>...</th>\n",
              "      <td>...</td>\n",
              "      <td>...</td>\n",
              "      <td>...</td>\n",
              "    </tr>\n",
              "    <tr>\n",
              "      <th>32635</th>\n",
              "      <td>-0.013212</td>\n",
              "      <td>0.081762</td>\n",
              "      <td>0.042150</td>\n",
              "    </tr>\n",
              "    <tr>\n",
              "      <th>32636</th>\n",
              "      <td>0.010926</td>\n",
              "      <td>0.152635</td>\n",
              "      <td>0.104391</td>\n",
              "    </tr>\n",
              "    <tr>\n",
              "      <th>32637</th>\n",
              "      <td>0.448807</td>\n",
              "      <td>0.561134</td>\n",
              "      <td>0.438084</td>\n",
              "    </tr>\n",
              "    <tr>\n",
              "      <th>32638</th>\n",
              "      <td>0.049607</td>\n",
              "      <td>0.204644</td>\n",
              "      <td>0.210528</td>\n",
              "    </tr>\n",
              "    <tr>\n",
              "      <th>32639</th>\n",
              "      <td>0.009079</td>\n",
              "      <td>0.246268</td>\n",
              "      <td>0.233144</td>\n",
              "    </tr>\n",
              "  </tbody>\n",
              "</table>\n",
              "<p>32640 rows × 3 columns</p>\n",
              "</div>\n",
              "      <button class=\"colab-df-convert\" onclick=\"convertToInteractive('df-44e084be-e7a0-4a58-a5a2-93f36aa83f84')\"\n",
              "              title=\"Convert this dataframe to an interactive table.\"\n",
              "              style=\"display:none;\">\n",
              "        \n",
              "  <svg xmlns=\"http://www.w3.org/2000/svg\" height=\"24px\"viewBox=\"0 0 24 24\"\n",
              "       width=\"24px\">\n",
              "    <path d=\"M0 0h24v24H0V0z\" fill=\"none\"/>\n",
              "    <path d=\"M18.56 5.44l.94 2.06.94-2.06 2.06-.94-2.06-.94-.94-2.06-.94 2.06-2.06.94zm-11 1L8.5 8.5l.94-2.06 2.06-.94-2.06-.94L8.5 2.5l-.94 2.06-2.06.94zm10 10l.94 2.06.94-2.06 2.06-.94-2.06-.94-.94-2.06-.94 2.06-2.06.94z\"/><path d=\"M17.41 7.96l-1.37-1.37c-.4-.4-.92-.59-1.43-.59-.52 0-1.04.2-1.43.59L10.3 9.45l-7.72 7.72c-.78.78-.78 2.05 0 2.83L4 21.41c.39.39.9.59 1.41.59.51 0 1.02-.2 1.41-.59l7.78-7.78 2.81-2.81c.8-.78.8-2.07 0-2.86zM5.41 20L4 18.59l7.72-7.72 1.47 1.35L5.41 20z\"/>\n",
              "  </svg>\n",
              "      </button>\n",
              "      \n",
              "  <style>\n",
              "    .colab-df-container {\n",
              "      display:flex;\n",
              "      flex-wrap:wrap;\n",
              "      gap: 12px;\n",
              "    }\n",
              "\n",
              "    .colab-df-convert {\n",
              "      background-color: #E8F0FE;\n",
              "      border: none;\n",
              "      border-radius: 50%;\n",
              "      cursor: pointer;\n",
              "      display: none;\n",
              "      fill: #1967D2;\n",
              "      height: 32px;\n",
              "      padding: 0 0 0 0;\n",
              "      width: 32px;\n",
              "    }\n",
              "\n",
              "    .colab-df-convert:hover {\n",
              "      background-color: #E2EBFA;\n",
              "      box-shadow: 0px 1px 2px rgba(60, 64, 67, 0.3), 0px 1px 3px 1px rgba(60, 64, 67, 0.15);\n",
              "      fill: #174EA6;\n",
              "    }\n",
              "\n",
              "    [theme=dark] .colab-df-convert {\n",
              "      background-color: #3B4455;\n",
              "      fill: #D2E3FC;\n",
              "    }\n",
              "\n",
              "    [theme=dark] .colab-df-convert:hover {\n",
              "      background-color: #434B5C;\n",
              "      box-shadow: 0px 1px 3px 1px rgba(0, 0, 0, 0.15);\n",
              "      filter: drop-shadow(0px 1px 2px rgba(0, 0, 0, 0.3));\n",
              "      fill: #FFFFFF;\n",
              "    }\n",
              "  </style>\n",
              "\n",
              "      <script>\n",
              "        const buttonEl =\n",
              "          document.querySelector('#df-44e084be-e7a0-4a58-a5a2-93f36aa83f84 button.colab-df-convert');\n",
              "        buttonEl.style.display =\n",
              "          google.colab.kernel.accessAllowed ? 'block' : 'none';\n",
              "\n",
              "        async function convertToInteractive(key) {\n",
              "          const element = document.querySelector('#df-44e084be-e7a0-4a58-a5a2-93f36aa83f84');\n",
              "          const dataTable =\n",
              "            await google.colab.kernel.invokeFunction('convertToInteractive',\n",
              "                                                     [key], {});\n",
              "          if (!dataTable) return;\n",
              "\n",
              "          const docLinkHtml = 'Like what you see? Visit the ' +\n",
              "            '<a target=\"_blank\" href=https://colab.research.google.com/notebooks/data_table.ipynb>data table notebook</a>'\n",
              "            + ' to learn more about interactive tables.';\n",
              "          element.innerHTML = '';\n",
              "          dataTable['output_type'] = 'display_data';\n",
              "          await google.colab.output.renderOutput(dataTable, element);\n",
              "          const docLink = document.createElement('div');\n",
              "          docLink.innerHTML = docLinkHtml;\n",
              "          element.appendChild(docLink);\n",
              "        }\n",
              "      </script>\n",
              "    </div>\n",
              "  </div>\n",
              "  "
            ]
          },
          "metadata": {},
          "execution_count": 31
        }
      ]
    },
    {
      "cell_type": "code",
      "source": [
        "# deg_Mg_50C=pd.Series(gbr.predict(num_feat_test))"
      ],
      "metadata": {
        "id": "0zw6NKhTNA_b"
      },
      "execution_count": null,
      "outputs": []
    },
    {
      "cell_type": "code",
      "source": [
        "final_pred = pd.DataFrame()\n",
        "final_pred[\"id_seqpos\"] = id\n",
        "final_pred[\"reactivity\"] = vv['reactivity']\n",
        "final_pred[\"deg_Mg_pH10\"] = vv['deg_Mg_pH10']\n",
        "final_pred[\"deg_Mg_50C\"] = vv['deg_Mg_50C']"
      ],
      "metadata": {
        "id": "dEQBZdsFzAy5"
      },
      "execution_count": null,
      "outputs": []
    },
    {
      "cell_type": "code",
      "source": [
        "final_pred.to_csv('pred.csv', index=False)"
      ],
      "metadata": {
        "id": "-g4BfRhCzIrz"
      },
      "execution_count": null,
      "outputs": []
    }
  ],
  "metadata": {
    "colab": {
      "provenance": [],
      "collapsed_sections": [
        "V6KzZ9YVp8-A",
        "gcVNdBX7o0lv",
        "XPWCxUdZo0c_",
        "PuAYB-p1f6B_",
        "DS20Grewoi7Y",
        "4LJx1ea7sJzI",
        "v8_D4Fc_smoV",
        "cYVCybTZsnBZ",
        "d2O-_MSM4Nqq",
        "WD5g61Py4Y5Z",
        "Rse6UCdZ6DXP"
      ]
    },
    "gpuClass": "standard",
    "kernelspec": {
      "display_name": "Python 3",
      "name": "python3"
    },
    "language_info": {
      "name": "python"
    }
  },
  "nbformat": 4,
  "nbformat_minor": 0
}